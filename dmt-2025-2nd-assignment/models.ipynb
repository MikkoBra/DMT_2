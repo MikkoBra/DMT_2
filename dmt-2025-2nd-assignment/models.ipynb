{
 "cells": [
  {
   "cell_type": "code",
   "execution_count": null,
   "id": "1741ddde-7425-4dd0-9a87-9c09f939092b",
   "metadata": {},
   "outputs": [],
   "source": [
    "import numpy as np\n",
    "import pandas as pd\n",
    "import matplotlib.pyplot as plt\n",
    "from sklearn.preprocessing import MinMaxScaler, OrdinalEncoder\n",
    "from sklearn.feature_selection import SelectKBest, mutual_info_classif\n",
    "from sklearn.model_selection import train_test_split, GroupShuffleSplit\n",
    "from sklearn.metrics import accuracy_score, classification_report, confusion_matrix, ndcg_score\n",
    "from sklearn.linear_model import Ridge\n",
    "import xgboost as xgb\n",
    "from catboost import CatBoostRanker, Pool\n",
    "import joblib"
   ]
  },
  {
   "cell_type": "markdown",
   "id": "633cf37d-5efc-458a-a3d2-6ab72b709f0c",
   "metadata": {},
   "source": [
    "# Data"
   ]
  },
  {
   "cell_type": "code",
   "execution_count": null,
   "id": "27401778-e8ec-4953-8667-e486e6e39772",
   "metadata": {},
   "outputs": [],
   "source": [
    "def load_dataset(filename):\n",
    "    return pd.read_csv(filename)\n",
    "\n",
    "training_file_raw = 'training_set_VU_DM.csv'\n",
    "test_file_raw = 'test_set_VU_DM.csv'\n",
    "training_file_stats = 'training_set_stats_VU_DM.csv'\n",
    "test_file_stats = 'test_set_stats_VU_DM.csv'"
   ]
  },
  {
   "cell_type": "code",
   "execution_count": null,
   "id": "a2a2fda4-1c77-46df-99cd-b693d9616a3a",
   "metadata": {},
   "outputs": [],
   "source": [
    "df = load_dataset(training_file_raw)\n",
    "print(df.columns)"
   ]
  },
  {
   "cell_type": "markdown",
   "id": "697de804-6796-4902-a613-84c099c9ea3c",
   "metadata": {},
   "source": [
    "#### Features\n",
    "|Feature  |Type | Description |Potential predictor|\n",
    "|:------- |:----|:------------|------------------:|\n",
    "|srch_id                     |int      |ID of search/user| |\n",
    "|date_time                   |Datetime |Time of search| |\n",
    "|site_id                     |int      |ID of Expedia link (.com/.co.uk/.co.jp...)| |\n",
    "|visitor_location_country_id |int      |ID of user's country| *|\n",
    "|visitor_hist_starrating     |float    |mean star rating of the customer's hotel purchases| *|\n",
    "|visitor_hist_adr_usd        |float    |mean price per night of the customer's hotel purchases| *|\n",
    "|prop_country_id             |int      |ID of the hotel's country| *|\n",
    "|prop_id                     |int      |ID of hotel| |\n",
    "|prop_starrating             |int      |star rating of hotel| *|\n",
    "|prop_review_score           |float    |review score of hotel (rounded to 0.5)| **|\n",
    "|prop_brand_bool             |int      |part of major hotel chain (1) or not (0)| *|\n",
    "|prop_location_score1        |float    |desirability score of the hotel's location (primary score)                   |                  ** |\n",
    "|prop_location_score2        |float    |desirability score of the hotel's location (secondary score)                 |                  ** |\n",
    "|prop_log_historical_price   |float    |log of mean price of hotel in the last trading period                        |                   |\n",
    "|price_usd                   |float    |displayed price of the hotel                                                 |                  ** |\n",
    "|promotion_flag              |int      |1 if hotel had a sale price promotion                                        |                  ** |\n",
    "|srch_destination_id         |int      |ID of the searched destination                                               |                   |\n",
    "|srch_length_of_stay         |int      |number of nights in the stay                                                 |                  * |\n",
    "|srch_booking_window         |int      |days between search and stay start                                           |                  * |\n",
    "|srch_adults_count           |int      |number of adults in the search                                               |                  * |\n",
    "|srch_children_count         |int      |number of children in the search                                             |                  * |\n",
    "|srch_room_count             |int      |number of rooms in the search                                                |                  * |\n",
    "|srch_saturday_night_bool    |bool     |1 if the stay includes a Saturday night                                      |                   |\n",
    "|srch_query_affinity_score   |float    |log probability a hotel will be clicked on the internet                      |                   |\n",
    "|orig_destination_distance   |float    |physical distance between hotel and customer                                 |                   |\n",
    "|random_bool                 |bool     |1 if results were shown in random order                                      |                   |\n",
    "|comp1_rate                  |int      |price comparison vs. competitor 1 (-1: higher, 0: same, +1: lower)           |                   |\n",
    "|comp1_inv                   |int      |availability vs. competitor 1 (+1: competitor unavailable, 0: both available)|                   |\n",
    "|comp1_rate_percent_diff     |float    |absolute percentage price difference with competitor 1                       |                   |\n",
    "|comp2_rate                  |int      |same as comp1_rate for competitor 2                                          |                   |\n",
    "|comp2_inv                   |int      |same as comp1_inv for competitor 2                                           |                   |\n",
    "|comp2_rate_percent_diff     |float    |same as comp1_rate_percent_diff for competitor 2                             |                   |\n",
    "|...                         |...      |same structure for competitors 3 through 8                                   |                   |\n",
    "|position                    |int      |rank of hotel in search results (training data only)                         |                   |\n",
    "|click_bool                  |bool     |1 if user clicked on the hotel  (training data only)                         |                   |\n",
    "|booking_bool                |bool     |1 if user booked the hotel      (training data only)                         |                   |\n",
    "|gross_bookings_usd           |float    |actual value of the booking (includes taxes, fees, etc.) (training data only)|                   |    "
   ]
  },
  {
   "cell_type": "code",
   "execution_count": null,
   "id": "aa9fc154-7206-470a-b62c-06396820acc2",
   "metadata": {},
   "outputs": [],
   "source": [
    "def dataset_stats(df):\n",
    "    print(f'Number of features: {len(df.columns)}')\n",
    "    total_observations = len(df)\n",
    "    print(f'Number of observations: {len(df)}')\n",
    "    print(f'Number of rows with missing values: {df.isnull().any(axis=1).sum()}')\n",
    "    print(f'Number of columns with missing values: {df.isnull().any(axis=0).sum()}')\n",
    "    print(f'Percentage not-missing data for features with missing values:')\n",
    "    for feature in df.columns[df.isnull().any()]:\n",
    "        print(f\"{feature}: {100*(total_observations - df[feature].isnull().sum())/total_observations:.2f}% not missing\")\n",
    "\n",
    "dataset_stats(df)"
   ]
  },
  {
   "cell_type": "markdown",
   "id": "698413f0-f11e-4cd4-b484-75bf59b9bc4b",
   "metadata": {},
   "source": [
    "## Feature Engineering"
   ]
  },
  {
   "cell_type": "code",
   "execution_count": null,
   "id": "16bd75dc-78e2-49cf-bf11-6ea9e88e2796",
   "metadata": {},
   "outputs": [],
   "source": [
    "df = load_dataset(training_file_raw)"
   ]
  },
  {
   "cell_type": "code",
   "execution_count": null,
   "id": "fa35abff-73f9-49f6-83b3-8834303ef320",
   "metadata": {},
   "outputs": [],
   "source": [
    "df = load_dataset(test_file_raw)"
   ]
  },
  {
   "cell_type": "code",
   "execution_count": null,
   "id": "705cba34-a9dc-4e54-9ab6-e7cbc24fc33d",
   "metadata": {},
   "outputs": [],
   "source": [
    "transform_df = df.copy()"
   ]
  },
  {
   "cell_type": "markdown",
   "id": "c6e4352f-1eb0-445e-87be-ea2f79663539",
   "metadata": {},
   "source": [
    "We remove prices greater than 10000 (outliers)"
   ]
  },
  {
   "cell_type": "code",
   "execution_count": null,
   "id": "d12c577b-4e02-407c-b78a-0f3a4a841b0b",
   "metadata": {},
   "outputs": [],
   "source": [
    "transform_df.loc[df['price_usd'] > 10000, 'price_usd'] = np.nan"
   ]
  },
  {
   "cell_type": "markdown",
   "id": "c9e5856a-61ae-4cd4-8d2c-b12281cf5727",
   "metadata": {},
   "source": [
    "Prices are given in total price of stay, we transform to price per night."
   ]
  },
  {
   "cell_type": "code",
   "execution_count": null,
   "id": "295794eb-2597-4ec9-998d-c8b55fbba343",
   "metadata": {},
   "outputs": [],
   "source": [
    "transform_df['price_per_night'] = transform_df['price_usd'] / transform_df['srch_length_of_stay']"
   ]
  },
  {
   "cell_type": "code",
   "execution_count": null,
   "id": "b1ccb8e6-cd8c-4c85-8a50-19c8c4e248dc",
   "metadata": {},
   "outputs": [],
   "source": [
    "print(df['price_usd'].mean(), df['price_usd'].std(), df['price_usd'].median())\n",
    "print(transform_df['price_usd'].mean(), transform_df['price_usd'].std(), transform_df['price_usd'].median())\n",
    "print(transform_df['price_per_night'].mean(), transform_df['price_per_night'].std(), transform_df['price_per_night'].median())"
   ]
  },
  {
   "cell_type": "markdown",
   "id": "7d9aaf07-f343-4548-ab4c-d3e188e22c45",
   "metadata": {},
   "source": [
    "Datetime has many unique values and a single date might not be informative. We transform to seasons, which might be more informative for booking."
   ]
  },
  {
   "cell_type": "code",
   "execution_count": null,
   "id": "cf450179-ba1c-4f3f-a25a-738485979ca2",
   "metadata": {},
   "outputs": [],
   "source": [
    "def get_season_label(month):\n",
    "    if month in [12, 1, 2]:\n",
    "        return 1.0  # Winter\n",
    "    elif month in [3, 4, 5]:\n",
    "        return 2.0  # Spring\n",
    "    elif month in [6, 7, 8]:\n",
    "        return 3.0  # Summer\n",
    "    else:\n",
    "        return 4.0  # Fall\n",
    "\n",
    "transform_df['season'] = pd.to_datetime(df['date_time']).dt.month.map(get_season_label)"
   ]
  },
  {
   "cell_type": "code",
   "execution_count": null,
   "id": "2899cfd8-845a-4e4b-9211-0e7c5cc630ef",
   "metadata": {},
   "outputs": [],
   "source": [
    "transform_df['season']"
   ]
  },
  {
   "cell_type": "markdown",
   "id": "16d39beb-3842-4637-9d6d-f5e9058ee0b7",
   "metadata": {},
   "source": [
    "Column 'relevance' is created containing the NDCG@5 relevance scores as explained in the assignment."
   ]
  },
  {
   "cell_type": "code",
   "execution_count": null,
   "id": "f25aa00f-125a-4f33-bf2c-4511642e8278",
   "metadata": {},
   "outputs": [],
   "source": [
    "# Relevance scores for NDCG@5, used at model evaluation\n",
    "transform_df['relevance'] = 0\n",
    "transform_df.loc[transform_df['click_bool'] == 1, 'relevance'] = 1\n",
    "transform_df.loc[transform_df['booking_bool'] == 1, 'relevance'] = 5"
   ]
  },
  {
   "cell_type": "markdown",
   "id": "366c0372-0129-4085-8457-e8ad1298d2c5",
   "metadata": {},
   "source": [
    "Per property id (prop_id), the mean, standard deviation, and median are computed for each numerical feature available in the test file. This allows for the model to learn relative differences between searches."
   ]
  },
  {
   "cell_type": "code",
   "execution_count": null,
   "id": "200818cf-b227-4433-b274-ef13eaca9def",
   "metadata": {},
   "outputs": [],
   "source": [
    "# Columns not to calculate mean/std/median for (ID features, price_usd, date_time and the training set exclusive features)\n",
    "exclude_from_stat_cols = ['srch_id', 'prop_id', 'position',\n",
    "                          'click_bool', 'booking_bool', 'gross_bookings_usd',\n",
    "                          'relevance', 'price_usd', 'visitor_location_country_id',\n",
    "                          'prop_country_id', 'site_id', 'srch_destination_id'\n",
    "                         ]\n",
    "numeric_cols = transform_df.select_dtypes(include='number').columns.drop(exclude_from_stat_cols)"
   ]
  },
  {
   "cell_type": "code",
   "execution_count": null,
   "id": "b1e3fb90-7ef8-4ecd-ba66-8e419f12fd2e",
   "metadata": {},
   "outputs": [],
   "source": [
    "# Columns not to calculate mean/std/median for (ID features, price_usd, date_time and the training set exclusive features)\n",
    "exclude_from_stat_cols = ['srch_id', 'prop_id'\n",
    "                         ]"
   ]
  },
  {
   "cell_type": "code",
   "execution_count": null,
   "id": "be9f889c-4724-4a85-8fa3-878400a1efc1",
   "metadata": {},
   "outputs": [],
   "source": [
    "numeric_cols = transform_df.select_dtypes(include='number').columns.drop(exclude_from_stat_cols)"
   ]
  },
  {
   "cell_type": "code",
   "execution_count": null,
   "id": "c96c3312-bf50-4ec6-a8ec-a66b72bbc959",
   "metadata": {},
   "outputs": [],
   "source": [
    "prop_means = transform_df.groupby('prop_id')[numeric_cols].mean().add_suffix('_mean')"
   ]
  },
  {
   "cell_type": "code",
   "execution_count": null,
   "id": "b55a7d46-2c3c-4b54-90ee-9e8dd6fcc288",
   "metadata": {},
   "outputs": [],
   "source": [
    "prop_stds = transform_df.groupby('prop_id')[numeric_cols].std().add_suffix('_std')"
   ]
  },
  {
   "cell_type": "code",
   "execution_count": null,
   "id": "755ecd88-9f6e-44db-acc5-d50a526a51f3",
   "metadata": {},
   "outputs": [],
   "source": [
    "prop_medians = transform_df.groupby('prop_id')[numeric_cols].median().add_suffix('_median')"
   ]
  },
  {
   "cell_type": "code",
   "execution_count": null,
   "id": "9896d283-9d17-4fee-9041-1b9cd7025b3d",
   "metadata": {},
   "outputs": [],
   "source": [
    "prop_stats = prop_means.join([prop_stds, prop_medians])"
   ]
  },
  {
   "cell_type": "markdown",
   "id": "3eaca037-3b87-472f-9422-24868e1eea62",
   "metadata": {},
   "source": [
    "Join the created stat columns with the dataframe, drop all unused columns"
   ]
  },
  {
   "cell_type": "code",
   "execution_count": null,
   "id": "617dfdc3-ca36-436c-a786-077c89065cd1",
   "metadata": {},
   "outputs": [],
   "source": [
    "exclude_from_training_cols = ['position', 'click_bool', 'booking_bool',\n",
    "                              'gross_bookings_usd', 'price_usd', 'date_time']"
   ]
  },
  {
   "cell_type": "code",
   "execution_count": null,
   "id": "0065f30d-fc80-48ac-a108-8d11e28658d8",
   "metadata": {},
   "outputs": [],
   "source": [
    "df_with_stats = transform_df.merge(prop_stats, on='prop_id', how='left').drop(exclude_from_training_cols, axis=1)"
   ]
  },
  {
   "cell_type": "code",
   "execution_count": null,
   "id": "e33aca28-ecf1-46f6-918a-a3ea2d1fceea",
   "metadata": {},
   "outputs": [],
   "source": [
    "df_with_stats.to_csv(training_file_stats, index=False)"
   ]
  },
  {
   "cell_type": "code",
   "execution_count": null,
   "id": "b0465213-0de2-414b-bd66-2648498eda01",
   "metadata": {},
   "outputs": [],
   "source": [
    "exclude_from_test_cols = ['date_time']"
   ]
  },
  {
   "cell_type": "code",
   "execution_count": null,
   "id": "7595a303-bf99-43f7-93bb-fd22357a5c1e",
   "metadata": {},
   "outputs": [],
   "source": [
    "df_with_stats = transform_df.merge(prop_stats, on='prop_id', how='left').drop(exclude_from_test_cols, axis=1)"
   ]
  },
  {
   "cell_type": "code",
   "execution_count": null,
   "id": "fdfb80db-1967-4384-9ad5-923f1ac30364",
   "metadata": {},
   "outputs": [],
   "source": [
    "df_with_stats.to_csv(test_file_stats, index=False)"
   ]
  },
  {
   "cell_type": "markdown",
   "id": "05e74b50-7647-4ae4-8dd5-2ea6858efd0c",
   "metadata": {},
   "source": [
    "^ merge + write to csv takes long (35+ mins for training set)"
   ]
  },
  {
   "cell_type": "markdown",
   "id": "f1d70ac9-9622-441c-8349-86f8fc91a9c9",
   "metadata": {},
   "source": [
    "# Models"
   ]
  },
  {
   "cell_type": "markdown",
   "id": "51a277f0-6440-4b1c-a135-f7667a464d06",
   "metadata": {},
   "source": [
    "### XGBoost rank (relevance score)"
   ]
  },
  {
   "cell_type": "code",
   "execution_count": null,
   "id": "dfde7f56-b26d-4971-a684-bcb3b6474ab2",
   "metadata": {},
   "outputs": [],
   "source": [
    "df = load_dataset(training_file_stats)"
   ]
  },
  {
   "cell_type": "code",
   "execution_count": null,
   "id": "d00eefa4-477d-4dae-a9f9-2cd2d64c2c36",
   "metadata": {},
   "outputs": [],
   "source": [
    "# Make sure training features don't include grouping feature srch_id or target feature relevance\n",
    "X = df.drop(['srch_id', 'relevance'], axis=1)\n",
    "y = df['relevance']"
   ]
  },
  {
   "cell_type": "code",
   "execution_count": null,
   "id": "633caba4-1317-428c-83a9-58de24209a98",
   "metadata": {},
   "outputs": [],
   "source": [
    "# Make sure searches are not split across the training and test sets\n",
    "groups = df.groupby('srch_id').size().to_numpy()\n",
    "gss = GroupShuffleSplit(test_size=0.2, random_state=1)\n",
    "train_idx, test_idx = next(gss.split(X, y, groups=df['srch_id']))"
   ]
  },
  {
   "cell_type": "code",
   "execution_count": null,
   "id": "1d9bb65c-1c28-4436-acd1-e1aeb0f0171d",
   "metadata": {},
   "outputs": [],
   "source": [
    "X_train_all = X.iloc[train_idx]\n",
    "y_train_all = y.iloc[train_idx]\n",
    "groups_train_all = df.iloc[train_idx]['srch_id']"
   ]
  },
  {
   "cell_type": "code",
   "execution_count": null,
   "id": "a7d42d1f-7870-4383-9b51-ba2058bd45a2",
   "metadata": {},
   "outputs": [],
   "source": [
    "gss_val = GroupShuffleSplit(test_size=0.2, random_state=2)\n",
    "train_idx_final, val_idx = next(gss_val.split(X_train_all, y_train_all, groups=groups_train_all))"
   ]
  },
  {
   "cell_type": "code",
   "execution_count": null,
   "id": "56df6ca4-a976-44a4-a668-63d894e0f742",
   "metadata": {},
   "outputs": [],
   "source": [
    "X_train, y_train = X_train_all.iloc[train_idx_final], y_train_all.iloc[train_idx_final]\n",
    "X_val, y_val = X_train_all.iloc[val_idx], y_train_all.iloc[val_idx]"
   ]
  },
  {
   "cell_type": "code",
   "execution_count": null,
   "id": "8c6d870e-f5dc-491a-8f4a-0651154453a7",
   "metadata": {},
   "outputs": [],
   "source": [
    "X_test, y_test = X.iloc[test_idx], y.iloc[test_idx]"
   ]
  },
  {
   "cell_type": "code",
   "execution_count": null,
   "id": "192312ed-fb47-4698-8ffe-c82b55437ee4",
   "metadata": {},
   "outputs": [],
   "source": [
    "dtrain = xgb.DMatrix(X_train, y_train, enable_categorical=True)\n",
    "dval = xgb.DMatrix(X_val, y_val, enable_categorical=True)"
   ]
  },
  {
   "cell_type": "code",
   "execution_count": null,
   "id": "af832dec-1819-4dd9-8fba-f6b4e0201739",
   "metadata": {},
   "outputs": [],
   "source": [
    "# Set group info\n",
    "groups_train = groups_train_all.iloc[train_idx_final]\n",
    "groups_val = groups_train_all.iloc[val_idx]\n",
    "\n",
    "group_train = groups_train.groupby(groups_train).size().to_numpy()\n",
    "group_val = groups_val.groupby(groups_val).size().to_numpy()"
   ]
  },
  {
   "cell_type": "code",
   "execution_count": null,
   "id": "1a98f85e-66ec-427e-8560-6c6d238c63a0",
   "metadata": {},
   "outputs": [],
   "source": [
    "dtrain.set_group(group_train)\n",
    "dval.set_group(group_val)"
   ]
  },
  {
   "cell_type": "code",
   "execution_count": null,
   "id": "66e4a855-a351-4b8c-8b03-0514ce9e9b08",
   "metadata": {},
   "outputs": [],
   "source": [
    "del model"
   ]
  },
  {
   "cell_type": "code",
   "execution_count": null,
   "id": "b97f860e-dceb-4734-9e69-57e8ce61df8d",
   "metadata": {},
   "outputs": [],
   "source": [
    "# What to evaluate during training, last one is used for early stopping\n",
    "evals = [(dtrain, \"train\"), (dval, \"validation\")]"
   ]
  },
  {
   "cell_type": "code",
   "execution_count": null,
   "id": "929373c7-d3b4-40a1-8c32-7e300ac80566",
   "metadata": {},
   "outputs": [],
   "source": [
    "params = {\n",
    "    \"objective\": \"rank:ndcg\", # ranking as oppposed to regression or binary classification\n",
    "    \"tree_method\": \"hist\",\n",
    "    \"device\": \"gpu\",          # making use of gpu in training\n",
    "    \"eval_metric\": \"ndcg@5\",\n",
    "    \"eta\": 0.1,                  # 0.3\n",
    "    \"max_depth\": 4,               # 6\n",
    "    \"min_child_weight\": 15,       # 1\n",
    "    \"gamma\": 1,                   # 0\n",
    "    \"subsample\": 0.85,             # 1\n",
    "    # \"colsample_bytree\": 0.8,      # 1\n",
    "    # \"lambda\": 0.5,                # 1\n",
    "    # \"alpha\": 0.5,                 # 0\n",
    "    # \"lambdarank_num_pair_per_sample\": 5,\n",
    "    # \"lambdarank_unbiased\": \"true\"\n",
    "}\n",
    "\n",
    "model = xgb.train(\n",
    "    params=params,\n",
    "    dtrain=dtrain,\n",
    "    num_boost_round=3000,     # max rounds, made arbitrarily large in order to finish through early stopping\n",
    "    evals=evals,\n",
    "    early_stopping_rounds=30, # stop training if metric has not improved for 30 rounds (prevent overfitting)\n",
    "    verbose_eval=5            # how often to print metrics\n",
    ")"
   ]
  },
  {
   "cell_type": "markdown",
   "id": "b43e25c5-6d8c-4352-bdc8-b1d66baf7b29",
   "metadata": {},
   "source": [
    "#### Evaluation \n",
    "**transformed set**  \n",
    "Overfitting is determined by train-ndcg@5 - validation-ndcg@5 $> 0.05$  \n",
    "  \n",
    "Default values, proper train/test/val split: overfitting at validation-ndcg@5:0.38381  \n",
    "  \n",
    "eta:  \n",
    "- 0.2: overfitting at validation-ndcg@5:0.38553\n",
    "- 0.1: overfitting at validation-ndcg@5:0.38636\n",
    "- 0.01: takes VERY long\n",
    "- winner: 0.1\n",
    "  \n",
    "max_depth:\n",
    "- 5: overfitting at validation-ndcg@5:0.38869\n",
    "- 4: finished with validation-ndcg@5:0.38928\n",
    "- winner: 4\n",
    "  \n",
    "min_child_weight:\n",
    "- 5: overfitting at validation-ndcg@5:0.38385\n",
    "- 10: overfitting at validation-ndcg@5:0.38606\n",
    "- 15: overfitting at validation-ndcg@5:0.38667\n",
    "- no massive difference between 10 and 15, evaluate again later\n",
    "  \n",
    "gamma:\n",
    "- 1: overfitting at validation-ndcg@5:0.38436\n",
    "- 2: overfitting at validation-ndcg@5:0.38365\n",
    "- winner: 1\n",
    "\n",
    "subsample:\n",
    "- 0.8: overfitting at validation-ndcg@5:0.38525\n",
    "- 0.6: overfitting at validation-ndcg@5:0.38117\n",
    "- 0.75: overfitting at validation-ndcg@5:0.38330\n",
    "- 0.85: overfitting at validation-ndcg@5:0.38591\n",
    "- winner: 0.85\n",
    "  \n",
    "all winners so far together: finished with validation-ndcg@5:0.39155\n",
    "  \n",
    "lambdarank_num_pair_per_sample 5: causes fast overfitting, maybe try again later  \n",
    "  \n",
    "**untransformed set**"
   ]
  },
  {
   "cell_type": "code",
   "execution_count": null,
   "id": "d81c73cd-ddea-4b97-a5f2-63868a5ca8a8",
   "metadata": {},
   "outputs": [],
   "source": [
    "# Save model to json file to avoid having to train again\n",
    "model.save_model('xgboost_model_fitted.json')"
   ]
  },
  {
   "cell_type": "code",
   "execution_count": null,
   "id": "74107b50-994b-4551-a034-2d99675b168b",
   "metadata": {},
   "outputs": [],
   "source": [
    "model = xgb.Booster()\n",
    "model.load_model('xgboost_model_fitted.json')"
   ]
  },
  {
   "cell_type": "code",
   "execution_count": null,
   "id": "e845205d-7171-4103-b3dd-b0f4cee6b556",
   "metadata": {},
   "outputs": [],
   "source": [
    "df_test = df.iloc[test_idx].copy()"
   ]
  },
  {
   "cell_type": "code",
   "execution_count": null,
   "id": "47bb0d78-1155-4bda-9b5c-ddfeed0490b8",
   "metadata": {},
   "outputs": [],
   "source": [
    "dtest = xgb.DMatrix(X_test, y_test, enable_categorical=True)"
   ]
  },
  {
   "cell_type": "code",
   "execution_count": null,
   "id": "30e001ef-1c6f-4caa-acd3-4ae19ebf2b23",
   "metadata": {},
   "outputs": [],
   "source": [
    "preds = model.predict(dtest)\n",
    "df_test['pred'] = preds\n",
    "\n",
    "# Compute NDCG@5 per srch_id and take the average\n",
    "ndcg_scores = []\n",
    "for srch_id, group in df_test.groupby('srch_id'):\n",
    "    if len(group) < 5:\n",
    "        continue  # the @5 in NDCG@5\n",
    "    true_relevance = group['relevance'].values.reshape(1, -1)\n",
    "    predicted_scores = group['pred'].values.reshape(1, -1)\n",
    "    score = ndcg_score(true_relevance, predicted_scores, k=5)\n",
    "    ndcg_scores.append(score)\n",
    "mean_ndcg = np.mean(ndcg_scores)\n",
    "print(f\"Mean NDCG@5: {mean_ndcg:.5f}\")"
   ]
  },
  {
   "cell_type": "markdown",
   "id": "d551ad31-3689-4d30-a999-4a0efc29a2a8",
   "metadata": {},
   "source": [
    "### Results\n",
    "mean/std/median + transformed data: 0.39400  \n",
    "mean/std/median: 0.40245"
   ]
  },
  {
   "cell_type": "markdown",
   "id": "36f49614-7f2f-4b59-b059-ce20d77a15d3",
   "metadata": {},
   "source": [
    "### CatBoost rank"
   ]
  },
  {
   "cell_type": "code",
   "execution_count": null,
   "id": "1314e006-9f3f-4e2f-b9df-b61a2d14b043",
   "metadata": {},
   "outputs": [],
   "source": [
    "df = load_dataset(training_file_stats)"
   ]
  },
  {
   "cell_type": "code",
   "execution_count": null,
   "id": "38e8b9ca-ff86-4408-b73f-98205c4c8d62",
   "metadata": {},
   "outputs": [],
   "source": [
    "# Make sure training features are only the ones available in the test file and don't include target feature relevance\n",
    "X = df.drop(['srch_id', 'relevance'], axis=1)\n",
    "y = df['relevance']"
   ]
  },
  {
   "cell_type": "code",
   "execution_count": null,
   "id": "af55d2d6-bd95-46a6-8b2e-55060c7d6d4b",
   "metadata": {},
   "outputs": [],
   "source": [
    "gss = GroupShuffleSplit(test_size=0.2, random_state=1)\n",
    "train_idx_all, test_idx = next(gss.split(X, y, groups=df['srch_id']))\n",
    "X_train_all, y_train_all = X.iloc[train_idx_all], y.iloc[train_idx_all]\n",
    "groups_train_all = df.iloc[train_idx_all]['srch_id']"
   ]
  },
  {
   "cell_type": "code",
   "execution_count": null,
   "id": "f2b25beb-7101-4000-8c9b-de1128c17579",
   "metadata": {},
   "outputs": [],
   "source": [
    "gss_val = GroupShuffleSplit(test_size=0.2, random_state=2)\n",
    "train_idx_final, val_idx = next(gss_val.split(X_train_all, y_train_all, groups=groups_train_all))\n",
    "X_train, y_train = X_train_all.iloc[train_idx_final], y_train_all.iloc[train_idx_final]\n",
    "X_val, y_val = X_train_all.iloc[val_idx], y_train_all.iloc[val_idx]"
   ]
  },
  {
   "cell_type": "code",
   "execution_count": null,
   "id": "66ca1f3e-5ebf-45fd-943b-443c8dd185a1",
   "metadata": {},
   "outputs": [],
   "source": [
    "train_group_id = df.iloc[train_idx_all].iloc[train_idx_final]['srch_id']\n",
    "val_group_id = df.iloc[train_idx_all].iloc[val_idx]['srch_id']"
   ]
  },
  {
   "cell_type": "code",
   "execution_count": null,
   "id": "ff6c6b85-19e1-4f72-8101-82281f741207",
   "metadata": {},
   "outputs": [],
   "source": [
    "train_pool = Pool(X_train, y_train, group_id=train_group_id)\n",
    "val_pool = Pool(X_val, y_val, group_id=val_group_id)"
   ]
  },
  {
   "cell_type": "code",
   "execution_count": null,
   "id": "b4d3bab0-1836-4048-b26c-cf82caa78999",
   "metadata": {},
   "outputs": [],
   "source": [
    "del cat_model"
   ]
  },
  {
   "cell_type": "code",
   "execution_count": null,
   "id": "b61bc4b4-8dec-4f0f-a0cb-e3b57a7ea53e",
   "metadata": {},
   "outputs": [],
   "source": [
    "cat_model = CatBoostRanker(\n",
    "    iterations=3000,\n",
    "    learning_rate=0.2,\n",
    "    depth=5,\n",
    "    loss_function='YetiRank',\n",
    "    eval_metric='NDCG:top=5',\n",
    "    task_type='CPU',\n",
    "    random_seed=2,\n",
    "    early_stopping_rounds=30,\n",
    "    verbose=5\n",
    ")\n",
    "cat_model.fit(train_pool, eval_set=[train_pool, val_pool])"
   ]
  },
  {
   "cell_type": "code",
   "execution_count": null,
   "id": "ff588794-8e69-420e-89d7-1202c1a72ca3",
   "metadata": {},
   "outputs": [],
   "source": [
    "X_test, y_test = X.iloc[test_idx], y.iloc[test_idx]"
   ]
  },
  {
   "cell_type": "code",
   "execution_count": null,
   "id": "d91ac395-4b78-452e-afec-dc0bd71d113f",
   "metadata": {},
   "outputs": [],
   "source": [
    "preds_cat = cat_model.predict(X_test)"
   ]
  },
  {
   "cell_type": "code",
   "execution_count": null,
   "id": "5a78a2f3-c317-468f-84fd-c4ef43c2822d",
   "metadata": {},
   "outputs": [],
   "source": [
    "df_test = df.iloc[test_idx].copy()"
   ]
  },
  {
   "cell_type": "code",
   "execution_count": null,
   "id": "98b00ae5-853e-4734-9c35-02ddcf95a441",
   "metadata": {},
   "outputs": [],
   "source": [
    "df_test['pred'] = preds_cat\n",
    "\n",
    "# Compute NDCG@5 per srch_id and take the average\n",
    "ndcg_scores = []\n",
    "for srch_id, group in df_test.groupby('srch_id'):\n",
    "    if len(group) < 5:\n",
    "        continue  # the @5 in NDCG@5\n",
    "    true_relevance = group['relevance'].values.reshape(1, -1)\n",
    "    predicted_scores = group['pred'].values.reshape(1, -1)\n",
    "    score = ndcg_score(true_relevance, predicted_scores, k=5)\n",
    "    ndcg_scores.append(score)\n",
    "mean_ndcg = np.mean(ndcg_scores)\n",
    "print(f\"Mean NDCG@5: {mean_ndcg:.4f}\")"
   ]
  },
  {
   "cell_type": "code",
   "execution_count": null,
   "id": "cdecdbc7-e1f8-4ab3-9e89-fb9a6af353d7",
   "metadata": {},
   "outputs": [],
   "source": [
    "cat_model.save_model(\"catboost_model.cbm\")"
   ]
  },
  {
   "cell_type": "markdown",
   "id": "52c365a5-5eb6-4e88-882f-bc7f1dc87f97",
   "metadata": {},
   "source": [
    "### Results\n",
    "mean/median/std, same settings as xgboost: 0.3920  \n",
    "mean/median/std, lr 0.2, depth 5: 0.3973"
   ]
  },
  {
   "cell_type": "markdown",
   "id": "471d348b-8238-4e1e-890a-86baa226c4bd",
   "metadata": {},
   "source": [
    "### Ensemble"
   ]
  },
  {
   "cell_type": "code",
   "execution_count": null,
   "id": "06b678d0-4a43-403f-a48e-9cf97d549e0d",
   "metadata": {},
   "outputs": [],
   "source": [
    "df = load_dataset(training_file_stats)"
   ]
  },
  {
   "cell_type": "code",
   "execution_count": null,
   "id": "c13520bc-60af-4f37-a5d7-e5d85e1dc616",
   "metadata": {},
   "outputs": [],
   "source": [
    "# Make sure training features are only the ones available in the test file and don't include target feature relevance\n",
    "X = df.drop(['srch_id', 'relevance'], axis=1)\n",
    "y = df['relevance']"
   ]
  },
  {
   "cell_type": "code",
   "execution_count": null,
   "id": "eab1e3b7-d316-4374-a297-1c099922567e",
   "metadata": {},
   "outputs": [],
   "source": [
    "gss = GroupShuffleSplit(test_size=0.2, random_state=1)\n",
    "train_idx_all, test_idx = next(gss.split(X, y, groups=df['srch_id']))\n",
    "X_train_all, y_train_all = X.iloc[train_idx_all], y.iloc[train_idx_all]\n",
    "groups_train_all = df.iloc[train_idx_all]['srch_id']"
   ]
  },
  {
   "cell_type": "code",
   "execution_count": null,
   "id": "4a80e2f2-e1af-4c81-872b-82b072a51198",
   "metadata": {},
   "outputs": [],
   "source": [
    "gss_val = GroupShuffleSplit(test_size=0.2, random_state=2)\n",
    "train_idx_final, val_idx = next(gss_val.split(X_train_all, y_train_all, groups=groups_train_all))\n",
    "X_train, y_train = X_train_all.iloc[train_idx_final], y_train_all.iloc[train_idx_final]\n",
    "X_val, y_val = X_train_all.iloc[val_idx], y_train_all.iloc[val_idx]"
   ]
  },
  {
   "cell_type": "code",
   "execution_count": null,
   "id": "ba8db4b8-4d8d-4f6b-bad6-cb103aa3e170",
   "metadata": {},
   "outputs": [],
   "source": [
    "xgb_model = xgb.Booster()\n",
    "xgb_model.load_model('xgboost_model_fitted.json')"
   ]
  },
  {
   "cell_type": "code",
   "execution_count": null,
   "id": "60006404-4117-4fa7-a1fa-269092fb9245",
   "metadata": {},
   "outputs": [],
   "source": [
    "cat_model = CatBoostRanker()\n",
    "cat_model.load_model(\"catboost_model.cbm\")"
   ]
  },
  {
   "cell_type": "code",
   "execution_count": null,
   "id": "e2b36667-707b-466b-a0ad-33a0b2609100",
   "metadata": {},
   "outputs": [],
   "source": [
    "X_test, y_test = X.iloc[test_idx], y.iloc[test_idx]"
   ]
  },
  {
   "cell_type": "code",
   "execution_count": null,
   "id": "6fd86690-4528-4664-98b7-7bc30bd8e7f9",
   "metadata": {},
   "outputs": [],
   "source": [
    "dtest = xgb.DMatrix(X_test, y_test, enable_categorical=True)"
   ]
  },
  {
   "cell_type": "code",
   "execution_count": null,
   "id": "0411f2f9-1179-4331-9f4f-08d81a1c9d55",
   "metadata": {},
   "outputs": [],
   "source": [
    "xgb_pred = xgb_model.predict(dtest)\n",
    "cat_pred = cat_model.predict(X_test)\n",
    "\n",
    "all_preds = np.vstack([xgb_pred, cat_pred]).T\n",
    "scaled = MinMaxScaler().fit_transform(all_preds)\n",
    "xgb_scaled, cat_scaled = scaled[:, 0], scaled[:, 1]\n",
    "\n",
    "xgb_ndcg = 0.7\n",
    "cat_ndcg = 0.3\n",
    "xgb_proportion = xgb_ndcg / (xgb_ndcg + cat_ndcg)\n",
    "cat_proportion = cat_ndcg / (xgb_ndcg + cat_ndcg)\n",
    "total_pred = xgb_proportion * xgb_scaled + cat_proportion * cat_scaled"
   ]
  },
  {
   "cell_type": "code",
   "execution_count": null,
   "id": "e3d4766f-65b8-4168-b497-f370cf9e327d",
   "metadata": {},
   "outputs": [],
   "source": [
    "test_df = df.iloc[test_idx].copy()"
   ]
  },
  {
   "cell_type": "code",
   "execution_count": null,
   "id": "bb5a3650-1e4b-4771-884f-1e6983f6decc",
   "metadata": {},
   "outputs": [],
   "source": [
    "test_df['relevance'] = df['relevance']"
   ]
  },
  {
   "cell_type": "code",
   "execution_count": null,
   "id": "53f76ce5-efa4-4ed6-8128-4ac0e14f6e81",
   "metadata": {},
   "outputs": [],
   "source": [
    "df_test['pred'] = total_pred\n",
    "\n",
    "# Compute NDCG@5 per srch_id and take the average\n",
    "ndcg_scores = []\n",
    "for srch_id, group in df_test.groupby('srch_id'):\n",
    "    if len(group) < 5:\n",
    "        continue  # the @5 in NDCG@5\n",
    "    true_relevance = group['relevance'].values.reshape(1, -1)\n",
    "    predicted_scores = group['pred'].values.reshape(1, -1)\n",
    "    score = ndcg_score(true_relevance, predicted_scores, k=5)\n",
    "    ndcg_scores.append(score)\n",
    "mean_ndcg = np.mean(ndcg_scores)\n",
    "print(f\"Mean NDCG@5: {mean_ndcg:.4f}\")"
   ]
  },
  {
   "cell_type": "markdown",
   "id": "1d3b09cb-323b-4929-9536-5496cf386c40",
   "metadata": {},
   "source": [
    "### Results\n",
    "xgboost and catboost same parameters, weighted on ndcg score: 0.4000  \n",
    "catboost lr 0.2, depth 5, weighted on ndcg score: 0.4019  \n",
    "xgboost and catboost same parameters, 80/20 weighting: 0.4029  \n",
    "xgboost and catboost same parameters, 90/10 weighting: 0.4029  \n",
    "xgboost and catboost same parameters, 70/30 weighting: 0.4028  "
   ]
  },
  {
   "cell_type": "markdown",
   "id": "ff4a2212-1bc4-4f34-bad5-a5393d5ad5a4",
   "metadata": {},
   "source": [
    "### Meta Model (XGBoost/CatBoost + Ridge regression)"
   ]
  },
  {
   "cell_type": "code",
   "execution_count": null,
   "id": "c62bf1a8-20e4-4364-9be9-4f6f94e81ad6",
   "metadata": {},
   "outputs": [],
   "source": [
    "df = load_dataset(training_file_stats)"
   ]
  },
  {
   "cell_type": "code",
   "execution_count": null,
   "id": "3df9193a-9d8f-44d2-a497-751d41181e1d",
   "metadata": {},
   "outputs": [],
   "source": [
    "# Make sure training features are only the ones available in the test file and don't include target feature relevance\n",
    "X = df.drop(['srch_id', 'relevance'], axis=1)\n",
    "y = df['relevance']"
   ]
  },
  {
   "cell_type": "code",
   "execution_count": null,
   "id": "176df7e3-601c-4c4b-aee6-e98bbe3319fb",
   "metadata": {},
   "outputs": [],
   "source": [
    "gss = GroupShuffleSplit(test_size=0.2, random_state=1)\n",
    "train_idx_all, test_idx = next(gss.split(X, y, groups=df['srch_id']))\n",
    "X_train_all, y_train_all = X.iloc[train_idx_all], y.iloc[train_idx_all]\n",
    "groups_train_all = df.iloc[train_idx_all]['srch_id']"
   ]
  },
  {
   "cell_type": "code",
   "execution_count": null,
   "id": "1dd28cf4-f7da-491b-abdb-01865a23ee3b",
   "metadata": {},
   "outputs": [],
   "source": [
    "gss_val = GroupShuffleSplit(test_size=0.2, random_state=2)\n",
    "train_idx_final, val_idx = next(gss_val.split(X_train_all, y_train_all, groups=groups_train_all))\n",
    "X_train, y_train = X_train_all.iloc[train_idx_final], y_train_all.iloc[train_idx_final]\n",
    "X_val, y_val = X_train_all.iloc[val_idx], y_train_all.iloc[val_idx]"
   ]
  },
  {
   "cell_type": "code",
   "execution_count": null,
   "id": "4df819a7-2576-497f-bd1f-cba36e929494",
   "metadata": {},
   "outputs": [],
   "source": [
    "xgb_model = xgb.Booster()\n",
    "xgb_model.load_model('xgboost_model_fitted.json')"
   ]
  },
  {
   "cell_type": "code",
   "execution_count": null,
   "id": "caed5c85-ab2e-4aaa-8395-d9e336e01689",
   "metadata": {},
   "outputs": [],
   "source": [
    "cat_model = CatBoostRanker()\n",
    "cat_model.load_model(\"catboost_model.cbm\")"
   ]
  },
  {
   "cell_type": "code",
   "execution_count": null,
   "id": "7d690e8a-c23c-4e0e-8ee9-f4340ec798fa",
   "metadata": {},
   "outputs": [],
   "source": [
    "dval = xgb.DMatrix(X_val, enable_categorical=True)"
   ]
  },
  {
   "cell_type": "code",
   "execution_count": null,
   "id": "27d61f07-4cd9-4285-a8d1-e63d21c59951",
   "metadata": {},
   "outputs": [],
   "source": [
    "xgb_val_pred = xgb_model.predict(dval)\n",
    "cat_val_pred = cat_model.predict(X_val)\n",
    "\n",
    "meta_X_val = np.column_stack((\n",
    "    0.8 * xgb_val_pred,\n",
    "    0.2 * cat_val_pred\n",
    "))\n",
    "meta_model = Ridge()"
   ]
  },
  {
   "cell_type": "code",
   "execution_count": null,
   "id": "9144f1a6-b63b-45cb-be99-f3d8ffa147d3",
   "metadata": {},
   "outputs": [],
   "source": [
    "meta_model.fit(meta_X_val, y_val)"
   ]
  },
  {
   "cell_type": "code",
   "execution_count": null,
   "id": "8a19b894-a99c-4974-bf00-08feb908ddfa",
   "metadata": {},
   "outputs": [],
   "source": [
    "joblib.dump(meta_model, 'meta_model.pkl')"
   ]
  },
  {
   "cell_type": "code",
   "execution_count": null,
   "id": "b3b6fa9b-974b-42ec-a8ec-c3105154d250",
   "metadata": {},
   "outputs": [],
   "source": [
    "meta_model = joblib.load('meta_model.pkl')"
   ]
  },
  {
   "cell_type": "code",
   "execution_count": null,
   "id": "995af0bf-0014-4a35-8898-069b14671421",
   "metadata": {},
   "outputs": [],
   "source": [
    "X_test, y_test = X.iloc[test_idx], y.iloc[test_idx]"
   ]
  },
  {
   "cell_type": "code",
   "execution_count": null,
   "id": "850c1f84-aa0e-44b9-b701-e99548c35d6e",
   "metadata": {},
   "outputs": [],
   "source": [
    "dtest = xgb.DMatrix(X_test, y_test, enable_categorical=True)"
   ]
  },
  {
   "cell_type": "code",
   "execution_count": null,
   "id": "764693f2-bffe-4bff-ab8a-8438f4f9e22b",
   "metadata": {},
   "outputs": [],
   "source": [
    "xgb_test_pred = xgb_model.predict(dtest)\n",
    "cat_test_pred = cat_model.predict(X_test)\n",
    "meta_X_test = np.column_stack((\n",
    "    0.8 * xgb_test_pred,\n",
    "    0.2 * cat_test_pred\n",
    "))\n",
    "total_pred = meta_model.predict(meta_X_test)"
   ]
  },
  {
   "cell_type": "code",
   "execution_count": null,
   "id": "cc96a092-9f75-4425-9d23-3c51acf1b79d",
   "metadata": {},
   "outputs": [],
   "source": [
    "df_test = df.iloc[test_idx].copy()"
   ]
  },
  {
   "cell_type": "code",
   "execution_count": null,
   "id": "e997afc0-b84c-4f51-8a7f-95fb8a6715c5",
   "metadata": {},
   "outputs": [],
   "source": [
    "df_test['relevance'] = y_test"
   ]
  },
  {
   "cell_type": "code",
   "execution_count": null,
   "id": "da0f2a6c-1b74-4bde-9ede-c9c9741b1bbd",
   "metadata": {},
   "outputs": [],
   "source": [
    "df_test['pred'] = total_pred\n",
    "\n",
    "# Compute NDCG@5 per srch_id and take the average\n",
    "ndcg_scores = []\n",
    "for srch_id, group in df_test.groupby('srch_id'):\n",
    "    if len(group) < 5:\n",
    "        continue  # the @5 in NDCG@5\n",
    "    true_relevance = group['relevance'].values.reshape(1, -1)\n",
    "    predicted_scores = group['pred'].values.reshape(1, -1)\n",
    "    score = ndcg_score(true_relevance, predicted_scores, k=5)\n",
    "    ndcg_scores.append(score)\n",
    "mean_ndcg = np.mean(ndcg_scores)\n",
    "print(f\"Mean NDCG@5: {mean_ndcg:.4f}\")"
   ]
  },
  {
   "cell_type": "markdown",
   "id": "7fc9c0f5-a0a9-4563-a37d-a71157ae6929",
   "metadata": {},
   "source": [
    "#### Results\n",
    "equal weight: 0.4023  \n",
    "0.8/0.2 split: 0.4023"
   ]
  },
  {
   "cell_type": "markdown",
   "id": "f91e76de-3630-4060-b073-b09bfa2fa41b",
   "metadata": {},
   "source": [
    "### XGBoost categorical (yes/no booking)"
   ]
  },
  {
   "cell_type": "code",
   "execution_count": null,
   "id": "fe63e45b-03fb-4121-814d-ea5ff1333667",
   "metadata": {},
   "outputs": [],
   "source": [
    "X, y = df.drop(['position', 'click_bool', 'booking_bool', 'gross_bookings_usd', 'date_time'], axis=1), df[['booking_bool']]\n",
    "y_encoded = OrdinalEncoder().fit_transform(y)\n",
    "X_train, X_test, y_train, y_test = train_test_split(X, y, random_state=1)\n",
    "dtrain_reg = xgb.DMatrix(X_train, y_train, enable_categorical=True)\n",
    "dtest_reg = xgb.DMatrix(X_test, y_test, enable_categorical=True)"
   ]
  },
  {
   "cell_type": "code",
   "execution_count": null,
   "id": "1755d9f3-3943-4e47-be03-b7be365f188a",
   "metadata": {},
   "outputs": [],
   "source": [
    "params = {\n",
    "    \"objective\": \"binary:logistic\",\n",
    "    \"tree_method\": \"hist\",\n",
    "    \"device\": \"cuda\",\n",
    "    \"eval_metric\": [\"error\", \"logloss\", \"auc\"]\n",
    "         }\n",
    "evals = [(dtrain_reg, \"train\"), (dtest_reg, \"validation\")]\n",
    "n = 200\n",
    "\n",
    "\n",
    "model = xgb.train(\n",
    "   params=params,\n",
    "   dtrain=dtrain_reg,\n",
    "   num_boost_round=n,\n",
    "   evals=evals,\n",
    "   verbose_eval=10,\n",
    "   early_stopping_rounds=20\n",
    ")"
   ]
  },
  {
   "cell_type": "code",
   "execution_count": null,
   "id": "04c81a37-6629-417e-a6fd-280036240a0c",
   "metadata": {},
   "outputs": [],
   "source": [
    "y_proba = model.predict(dtest_reg)\n",
    "y_pred = (y_proba > 0.5).astype(int)\n",
    "y_true = dtest_reg.get_label()\n",
    "print(y_pred[:10])\n",
    "print(y_true[:10])\n",
    "acc = accuracy_score(y_true, y_pred)\n",
    "print(\"Accuracy:\", acc)\n",
    "\n",
    "print(\"\\nClassification Report:\")\n",
    "print(classification_report(y_true, y_pred))\n",
    "\n",
    "print(\"\\nConfusion Matrix:\")\n",
    "print(confusion_matrix(y_true, y_pred))"
   ]
  },
  {
   "cell_type": "markdown",
   "id": "7b733baa-2d6f-40b4-9605-ee1aafa036e5",
   "metadata": {},
   "source": [
    "### Results\n",
    "all but date_time: 0.9719390409870384"
   ]
  },
  {
   "cell_type": "markdown",
   "id": "0397de51-a9f0-4b33-90b8-d16e657ae2f5",
   "metadata": {},
   "source": [
    "## Submission generator"
   ]
  },
  {
   "cell_type": "code",
   "execution_count": null,
   "id": "4d7240ee-da2c-4e56-88c8-9049cfb7de58",
   "metadata": {},
   "outputs": [],
   "source": [
    "xgb_model = xgb.Booster()\n",
    "xgb_model.load_model('xgboost_model_fitted.json')"
   ]
  },
  {
   "cell_type": "code",
   "execution_count": null,
   "id": "f80316bc-e6f6-4cd4-b47a-e3c1ee0a7b91",
   "metadata": {},
   "outputs": [],
   "source": [
    "cat_model = CatBoostRanker()\n",
    "cat_model.load_model(\"catboost_model.cbm\")"
   ]
  },
  {
   "cell_type": "code",
   "execution_count": null,
   "id": "330430d0-cb1c-470c-9edb-cf173c3b53d2",
   "metadata": {},
   "outputs": [],
   "source": [
    "test_df = load_dataset(test_file_stats)"
   ]
  },
  {
   "cell_type": "code",
   "execution_count": null,
   "id": "9d1bb8d5-7730-4e37-8dc0-2cd23d63d08c",
   "metadata": {},
   "outputs": [],
   "source": [
    "test_df = df_with_stats.drop(['srch_id_std', 'srch_id_mean', 'srch_id_median', 'prop_id_mean', 'prop_id_std', 'prop_id_median'], axis=1)"
   ]
  },
  {
   "cell_type": "code",
   "execution_count": null,
   "id": "c3f6a12c-dc15-4ac4-af1f-77d88d7c57ff",
   "metadata": {},
   "outputs": [],
   "source": [
    "test_df_without_srch = test_df.drop('srch_id', axis=1)"
   ]
  },
  {
   "cell_type": "code",
   "execution_count": null,
   "id": "3abb5929-a4cc-405f-929f-6d4f59522549",
   "metadata": {},
   "outputs": [],
   "source": [
    "dtest = xgb.DMatrix(test_df_without_srch, enable_categorical=True)"
   ]
  },
  {
   "cell_type": "code",
   "execution_count": null,
   "id": "43e42670-2b4e-4e62-afc4-78806118a77a",
   "metadata": {},
   "outputs": [],
   "source": [
    "group_id = test_df['srch_id']\n",
    "test_pool = Pool(test_df_without_srch, group_id=group_id)"
   ]
  },
  {
   "cell_type": "code",
   "execution_count": null,
   "id": "09800271-b30a-4a5e-aee8-5b91a6b02f5d",
   "metadata": {},
   "outputs": [],
   "source": [
    "xgb_pred = xgb_model.predict(dtest)\n",
    "cat_pred = cat_model.predict(test_pool)\n",
    "\n",
    "scaler_xgb = MinMaxScaler()\n",
    "scaler_cat = MinMaxScaler()\n",
    "\n",
    "xgb_scaled = scaler_xgb.fit_transform(xgb_pred.reshape(-1, 1)).flatten()\n",
    "cat_scaled = scaler_cat.fit_transform(cat_pred.reshape(-1, 1)).flatten()\n",
    "\n",
    "xgb_ndcg = 0.85   # based on best average ndcg from evaluation\n",
    "cat_ndcg = 0.15\n",
    "xgb_proportion = xgb_ndcg / (xgb_ndcg + cat_ndcg)\n",
    "cat_proportion = cat_ndcg / (xgb_ndcg + cat_ndcg)\n",
    "total_pred = xgb_proportion * xgb_scaled + cat_proportion * cat_scaled"
   ]
  },
  {
   "cell_type": "code",
   "execution_count": null,
   "id": "19ea154a-dabe-4319-9ae3-85624e1f77d8",
   "metadata": {},
   "outputs": [],
   "source": [
    "test_df['pred'] = xgb_pred"
   ]
  },
  {
   "cell_type": "code",
   "execution_count": null,
   "id": "0ac04039-d807-4e88-b888-279c1bbe1d4c",
   "metadata": {},
   "outputs": [],
   "source": [
    "# Sort prop_ids within search (srch_id) by descending predicted relevance\n",
    "test_df_filtered = test_df[['srch_id', 'prop_id', 'pred']]\n",
    "test_df_sorted = test_df_filtered.sort_values(by=[\"srch_id\", \"pred\"], ascending=[True, False])"
   ]
  },
  {
   "cell_type": "code",
   "execution_count": null,
   "id": "3902f5f6-c785-44a6-aac4-b793e2a456a5",
   "metadata": {},
   "outputs": [],
   "source": [
    "test_df_sorted.head(30)"
   ]
  },
  {
   "cell_type": "markdown",
   "id": "bb60f5ac-6103-43ba-aa20-5e11599610a5",
   "metadata": {},
   "source": [
    "#### XGBoost rank"
   ]
  },
  {
   "cell_type": "code",
   "execution_count": null,
   "id": "a396b099-d3f3-4662-8d13-9a269aebf647",
   "metadata": {},
   "outputs": [],
   "source": [
    "df_submission = test_df_sorted.drop(columns=['pred'])\n",
    "df_submission.to_csv('VU-DM-2025-Group-23 (1).csv', index=False)"
   ]
  },
  {
   "cell_type": "markdown",
   "id": "aec5b05e-86dc-42f8-8f51-9b1b5ba1aa25",
   "metadata": {},
   "source": [
    "#### CatBoost + XGBoost ensemble"
   ]
  },
  {
   "cell_type": "code",
   "execution_count": null,
   "id": "0231a503-5cbb-4138-87b8-77cc1da806bf",
   "metadata": {},
   "outputs": [],
   "source": [
    "df_submission = test_df_sorted.drop(columns=['pred'])\n",
    "df_submission.to_csv('VU-DM-2025-Group-23 (2).csv', index=False)"
   ]
  },
  {
   "cell_type": "markdown",
   "id": "267505d9-ffad-4e76-90f0-0347d4d8ce21",
   "metadata": {},
   "source": [
    "#### XGBoost categorical"
   ]
  },
  {
   "cell_type": "code",
   "execution_count": null,
   "id": "35c8bf57-3abc-4a3e-bd3f-229b8e38ecc3",
   "metadata": {},
   "outputs": [],
   "source": [
    "df_submission = test_df_sorted.drop(columns=['pred'])\n",
    "df_submission.to_csv('VU-DM-2025-Group-23.csv', index=False)"
   ]
  },
  {
   "cell_type": "markdown",
   "id": "8ac158b3-67f2-467d-a255-69227fe48058",
   "metadata": {},
   "source": [
    "----------------------------"
   ]
  },
  {
   "cell_type": "code",
   "execution_count": null,
   "id": "b2dd45c6-af6c-4279-96ce-e118b10ae6e9",
   "metadata": {},
   "outputs": [],
   "source": [
    "df_submission.shape"
   ]
  }
 ],
 "metadata": {
  "kernelspec": {
   "display_name": "Python (py12)",
   "language": "python",
   "name": "py12"
  },
  "language_info": {
   "codemirror_mode": {
    "name": "ipython",
    "version": 3
   },
   "file_extension": ".py",
   "mimetype": "text/x-python",
   "name": "python",
   "nbconvert_exporter": "python",
   "pygments_lexer": "ipython3",
   "version": "3.12.7"
  }
 },
 "nbformat": 4,
 "nbformat_minor": 5
}
