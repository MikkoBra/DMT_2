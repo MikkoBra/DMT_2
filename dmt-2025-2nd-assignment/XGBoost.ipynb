{
 "cells": [
  {
   "cell_type": "code",
   "execution_count": null,
   "id": "1741ddde-7425-4dd0-9a87-9c09f939092b",
   "metadata": {},
   "outputs": [],
   "source": [
    "import numpy as np\n",
    "import pandas as pd\n",
    "import matplotlib.pyplot as plt\n",
    "from sklearn.preprocessing import MinMaxScaler, OrdinalEncoder\n",
    "from sklearn.feature_selection import SelectKBest, mutual_info_classif\n",
    "from sklearn.model_selection import train_test_split, GroupShuffleSplit\n",
    "from sklearn.metrics import accuracy_score, classification_report, confusion_matrix, ndcg_score\n",
    "import xgboost as xgb"
   ]
  },
  {
   "cell_type": "markdown",
   "id": "633cf37d-5efc-458a-a3d2-6ab72b709f0c",
   "metadata": {},
   "source": [
    "# Data"
   ]
  },
  {
   "cell_type": "code",
   "execution_count": null,
   "id": "27401778-e8ec-4953-8667-e486e6e39772",
   "metadata": {},
   "outputs": [],
   "source": [
    "def load_dataset(filename):\n",
    "    return pd.read_csv(filename)\n",
    "\n",
    "training_file_raw = 'training_set_VU_DM.csv'\n",
    "test_file_raw = 'test_set_VU_DM.csv'\n",
    "training_file_stats = 'training_set_stats_VU_DM.csv'\n",
    "test_file_stats = 'test_set_stats_VU_DM.csv'"
   ]
  },
  {
   "cell_type": "code",
   "execution_count": null,
   "id": "a2a2fda4-1c77-46df-99cd-b693d9616a3a",
   "metadata": {},
   "outputs": [],
   "source": [
    "df = load_dataset(training_file_raw)\n",
    "print(df.columns)"
   ]
  },
  {
   "cell_type": "markdown",
   "id": "697de804-6796-4902-a613-84c099c9ea3c",
   "metadata": {},
   "source": [
    "#### Features\n",
    "|Feature  |Type | Description |Potential predictor|\n",
    "|:------- |:----|:------------|------------------:|\n",
    "|srch_id                     |int      |ID of search/user| |\n",
    "|date_time                   |Datetime |Time of search| |\n",
    "|site_id                     |int      |ID of Expedia link (.com/.co.uk/.co.jp...)| |\n",
    "|visitor_location_country_id |int      |ID of user's country| *|\n",
    "|visitor_hist_starrating     |float    |mean star rating of the customer's hotel purchases| *|\n",
    "|visitor_hist_adr_usd        |float    |mean price per night of the customer's hotel purchases| *|\n",
    "|prop_country_id             |int      |ID of the hotel's country| *|\n",
    "|prop_id                     |int      |ID of hotel| |\n",
    "|prop_starrating             |int      |star rating of hotel| *|\n",
    "|prop_review_score           |float    |review score of hotel (rounded to 0.5)| **|\n",
    "|prop_brand_bool             |int      |part of major hotel chain (1) or not (0)| *|\n",
    "|prop_location_score1        |float    |desirability score of the hotel's location (primary score)                   |                  ** |\n",
    "|prop_location_score2        |float    |desirability score of the hotel's location (secondary score)                 |                  ** |\n",
    "|prop_log_historical_price   |float    |log of mean price of hotel in the last trading period                        |                   |\n",
    "|price_usd                   |float    |displayed price of the hotel                                                 |                  ** |\n",
    "|promotion_flag              |int      |1 if hotel had a sale price promotion                                        |                  ** |\n",
    "|srch_destination_id         |int      |ID of the searched destination                                               |                   |\n",
    "|srch_length_of_stay         |int      |number of nights in the stay                                                 |                  * |\n",
    "|srch_booking_window         |int      |days between search and stay start                                           |                  * |\n",
    "|srch_adults_count           |int      |number of adults in the search                                               |                  * |\n",
    "|srch_children_count         |int      |number of children in the search                                             |                  * |\n",
    "|srch_room_count             |int      |number of rooms in the search                                                |                  * |\n",
    "|srch_saturday_night_bool    |bool     |1 if the stay includes a Saturday night                                      |                   |\n",
    "|srch_query_affinity_score   |float    |log probability a hotel will be clicked on the internet                      |                   |\n",
    "|orig_destination_distance   |float    |physical distance between hotel and customer                                 |                   |\n",
    "|random_bool                 |bool     |1 if results were shown in random order                                      |                   |\n",
    "|comp1_rate                  |int      |price comparison vs. competitor 1 (-1: higher, 0: same, +1: lower)           |                   |\n",
    "|comp1_inv                   |int      |availability vs. competitor 1 (+1: competitor unavailable, 0: both available)|                   |\n",
    "|comp1_rate_percent_diff     |float    |absolute percentage price difference with competitor 1                       |                   |\n",
    "|comp2_rate                  |int      |same as comp1_rate for competitor 2                                          |                   |\n",
    "|comp2_inv                   |int      |same as comp1_inv for competitor 2                                           |                   |\n",
    "|comp2_rate_percent_diff     |float    |same as comp1_rate_percent_diff for competitor 2                             |                   |\n",
    "|...                         |...      |same structure for competitors 3 through 8                                   |                   |\n",
    "|position                    |int      |rank of hotel in search results (training data only)                         |                   |\n",
    "|click_bool                  |bool     |1 if user clicked on the hotel  (training data only)                         |                   |\n",
    "|booking_bool                |bool     |1 if user booked the hotel      (training data only)                         |                   |\n",
    "|gross_bookings_usd           |float    |actual value of the booking (includes taxes, fees, etc.) (training data only)|                   |    "
   ]
  },
  {
   "cell_type": "code",
   "execution_count": null,
   "id": "aa9fc154-7206-470a-b62c-06396820acc2",
   "metadata": {},
   "outputs": [],
   "source": [
    "def dataset_stats(df):\n",
    "    print(f'Number of features: {len(df.columns)}')\n",
    "    total_observations = len(df)\n",
    "    print(f'Number of observations: {len(df)}')\n",
    "    print(f'Number of rows with missing values: {df.isnull().any(axis=1).sum()}')\n",
    "    print(f'Number of columns with missing values: {df.isnull().any(axis=0).sum()}')\n",
    "    print(f'Percentage not-missing data for features with missing values:')\n",
    "    for feature in df.columns[df.isnull().any()]:\n",
    "        print(f\"{feature}: {100*(total_observations - df[feature].isnull().sum())/total_observations:.2f}% not missing\")\n",
    "\n",
    "dataset_stats(df)"
   ]
  },
  {
   "cell_type": "markdown",
   "id": "698413f0-f11e-4cd4-b484-75bf59b9bc4b",
   "metadata": {},
   "source": [
    "## Feature Engineering"
   ]
  },
  {
   "cell_type": "code",
   "execution_count": null,
   "id": "16bd75dc-78e2-49cf-bf11-6ea9e88e2796",
   "metadata": {},
   "outputs": [],
   "source": [
    "df = load_dataset(training_file_raw)"
   ]
  },
  {
   "cell_type": "markdown",
   "id": "16d39beb-3842-4637-9d6d-f5e9058ee0b7",
   "metadata": {},
   "source": [
    "Column 'relevance' is created containing the NDCG@5 relevance scores as explained in the assignment."
   ]
  },
  {
   "cell_type": "code",
   "execution_count": null,
   "id": "f25aa00f-125a-4f33-bf2c-4511642e8278",
   "metadata": {},
   "outputs": [],
   "source": [
    "# Relevance scores for NDCG@5, used at model evaluation\n",
    "df['relevance'] = 0\n",
    "df.loc[df['click_bool'] == 1, 'relevance'] = 1\n",
    "df.loc[df['booking_bool'] == 1, 'relevance'] = 5"
   ]
  },
  {
   "cell_type": "markdown",
   "id": "366c0372-0129-4085-8457-e8ad1298d2c5",
   "metadata": {},
   "source": [
    "Per property id (prop_id), the mean, standard deviation, and median are computed for each numerical feature available in the test file. This allows for the model to learn relative differences between searches."
   ]
  },
  {
   "cell_type": "code",
   "execution_count": null,
   "id": "200818cf-b227-4433-b274-ef13eaca9def",
   "metadata": {},
   "outputs": [],
   "source": [
    "# Columns to calculate mean/std/median for (all but grouping feature prop_id and the training set exclusive features)\n",
    "numeric_cols = df.select_dtypes(include='number').columns.drop(['prop_id', 'position', 'click_bool', 'booking_bool', 'gross_bookings_usd', 'relevance'])"
   ]
  },
  {
   "cell_type": "code",
   "execution_count": null,
   "id": "c96c3312-bf50-4ec6-a8ec-a66b72bbc959",
   "metadata": {},
   "outputs": [],
   "source": [
    "prop_means = df.groupby('prop_id')[numeric_cols].mean().add_suffix('_mean')"
   ]
  },
  {
   "cell_type": "code",
   "execution_count": null,
   "id": "b55a7d46-2c3c-4b54-90ee-9e8dd6fcc288",
   "metadata": {},
   "outputs": [],
   "source": [
    "prop_stds = df.groupby('prop_id')[numeric_cols].std().add_suffix('_std')"
   ]
  },
  {
   "cell_type": "code",
   "execution_count": null,
   "id": "755ecd88-9f6e-44db-acc5-d50a526a51f3",
   "metadata": {},
   "outputs": [],
   "source": [
    "prop_medians = df.groupby('prop_id')[numeric_cols].median().add_suffix('_median')"
   ]
  },
  {
   "cell_type": "code",
   "execution_count": null,
   "id": "9896d283-9d17-4fee-9041-1b9cd7025b3d",
   "metadata": {},
   "outputs": [],
   "source": [
    "prop_stats = prop_means.join([prop_stds, prop_medians])"
   ]
  },
  {
   "cell_type": "code",
   "execution_count": null,
   "id": "0065f30d-fc80-48ac-a108-8d11e28658d8",
   "metadata": {},
   "outputs": [],
   "source": [
    "df_with_stats = df.merge(prop_stats, on='prop_id', how='left')"
   ]
  },
  {
   "cell_type": "code",
   "execution_count": null,
   "id": "e33aca28-ecf1-46f6-918a-a3ea2d1fceea",
   "metadata": {},
   "outputs": [],
   "source": [
    "df_with_stats.to_csv('train_set_stats_VU_DM.csv', index=False)"
   ]
  },
  {
   "cell_type": "code",
   "execution_count": null,
   "id": "fdfb80db-1967-4384-9ad5-923f1ac30364",
   "metadata": {},
   "outputs": [],
   "source": [
    "df_with_stats.to_csv('test_set_stats_VU_DM.csv', index=False)"
   ]
  },
  {
   "cell_type": "markdown",
   "id": "05e74b50-7647-4ae4-8dd5-2ea6858efd0c",
   "metadata": {},
   "source": [
    "^ merge + write to csv takes long (35+ mins for training set)"
   ]
  },
  {
   "cell_type": "markdown",
   "id": "f1d70ac9-9622-441c-8349-86f8fc91a9c9",
   "metadata": {},
   "source": [
    "# Models"
   ]
  },
  {
   "cell_type": "markdown",
   "id": "51a277f0-6440-4b1c-a135-f7667a464d06",
   "metadata": {},
   "source": [
    "### XGBoost rank (relevance score)"
   ]
  },
  {
   "cell_type": "code",
   "execution_count": null,
   "id": "dfde7f56-b26d-4971-a684-bcb3b6474ab2",
   "metadata": {},
   "outputs": [],
   "source": [
    "df = load_dataset(training_file_stats).drop('date_time', axis=1)"
   ]
  },
  {
   "cell_type": "code",
   "execution_count": null,
   "id": "d00eefa4-477d-4dae-a9f9-2cd2d64c2c36",
   "metadata": {},
   "outputs": [],
   "source": [
    "# Make sure training features are only the ones available in the test file and don't include target feature relevance\n",
    "X = df.drop(['position', 'click_bool', 'booking_bool', 'gross_bookings_usd', 'relevance'], axis=1)\n",
    "y = df['relevance']"
   ]
  },
  {
   "cell_type": "code",
   "execution_count": null,
   "id": "633caba4-1317-428c-83a9-58de24209a98",
   "metadata": {},
   "outputs": [],
   "source": [
    "# Make sure searches are not split across the training and test sets\n",
    "groups = df.groupby('srch_id').size().to_numpy()\n",
    "gss = GroupShuffleSplit(test_size=0.2, random_state=1)\n",
    "train_idx, test_idx = next(gss.split(X, y, groups=df['srch_id']))"
   ]
  },
  {
   "cell_type": "code",
   "execution_count": null,
   "id": "7f6a5796-64e1-4a84-9b03-b23db60d5601",
   "metadata": {},
   "outputs": [],
   "source": [
    "X_train, X_test = X.iloc[train_idx], X.iloc[test_idx]\n",
    "y_train, y_test = y.iloc[train_idx], y.iloc[test_idx]"
   ]
  },
  {
   "cell_type": "code",
   "execution_count": null,
   "id": "02fb061c-f8b2-418b-a7b1-3e25ce62d8c8",
   "metadata": {},
   "outputs": [],
   "source": [
    "X_train_2 = X_train.drop(['position_mean', 'position_std', 'position_median',\n",
    "         'click_bool_mean', 'click_bool_std', 'click_bool_median',\n",
    "         'booking_bool_mean', 'booking_bool_std', 'booking_bool_median',\n",
    "         'gross_bookings_usd_mean', 'gross_bookings_usd_std', 'gross_bookings_usd_median',\n",
    "         'relevance_mean', 'relevance_std', 'relevance_median'], axis=1)"
   ]
  },
  {
   "cell_type": "code",
   "execution_count": null,
   "id": "00413c4f-5143-44c4-9fe4-af04f5a50cb8",
   "metadata": {},
   "outputs": [],
   "source": [
    "X_test_2 = X_test.drop(['position_mean', 'position_std', 'position_median',\n",
    "         'click_bool_mean', 'click_bool_std', 'click_bool_median',\n",
    "         'booking_bool_mean', 'booking_bool_std', 'booking_bool_median',\n",
    "         'gross_bookings_usd_mean', 'gross_bookings_usd_std', 'gross_bookings_usd_median',\n",
    "         'relevance_mean', 'relevance_std', 'relevance_median'], axis=1)"
   ]
  },
  {
   "cell_type": "code",
   "execution_count": null,
   "id": "ff6c6b85-19e1-4f72-8101-82281f741207",
   "metadata": {},
   "outputs": [],
   "source": [
    "dtrain = xgb.DMatrix(X_train_2, label=y_train)\n",
    "dtest = xgb.DMatrix(X_test_2, label=y_test)"
   ]
  },
  {
   "cell_type": "code",
   "execution_count": null,
   "id": "434dddd4-d94c-4d15-8cdb-4d85b6a5ebcb",
   "metadata": {},
   "outputs": [],
   "source": [
    "# Set group info\n",
    "group_train = df.iloc[train_idx].groupby('srch_id').size().to_numpy()\n",
    "group_test = df.iloc[test_idx].groupby('srch_id').size().to_numpy()\n",
    "dtrain.set_group(group_train)\n",
    "dtest.set_group(group_test)"
   ]
  },
  {
   "cell_type": "code",
   "execution_count": null,
   "id": "929373c7-d3b4-40a1-8c32-7e300ac80566",
   "metadata": {},
   "outputs": [],
   "source": [
    "params = {\n",
    "    \"objective\": \"rank:ndcg\", # ranking as oppposed to regression or binary classification\n",
    "    \"tree_method\": \"hist\",\n",
    "    \"device\": \"cuda\",         # making use of gpu in training\n",
    "    \"eval_metric\": \"ndcg@5\"\n",
    "}\n",
    "# What to evaluate during training, last one is used for early stopping\n",
    "evals = [(dtrain, \"train\"), (dtest, \"validation\")]\n",
    "\n",
    "model = xgb.train(\n",
    "    params=params,\n",
    "    dtrain=dtrain,\n",
    "    num_boost_round=3000,     # max rounds, made arbitrarily large in order to finish through early stopping\n",
    "    evals=evals,\n",
    "    early_stopping_rounds=20, # stop training if metric has not improved for 20 rounds (prevent overfitting)\n",
    "    verbose_eval=2            # how often to print metrics\n",
    ")"
   ]
  },
  {
   "cell_type": "code",
   "execution_count": null,
   "id": "d81c73cd-ddea-4b97-a5f2-63868a5ca8a8",
   "metadata": {},
   "outputs": [],
   "source": [
    "# Save model to json file to avoid having to train again\n",
    "model.save_model('xgboost_model_fifth_split.json')"
   ]
  },
  {
   "cell_type": "code",
   "execution_count": null,
   "id": "30e001ef-1c6f-4caa-acd3-4ae19ebf2b23",
   "metadata": {},
   "outputs": [],
   "source": [
    "preds = model.predict(dtest)\n",
    "\n",
    "df_test = df.iloc[test_idx].copy()\n",
    "df_test['pred'] = preds\n",
    "\n",
    "# Compute NDCG@5 per srch_id and take the average\n",
    "ndcg_scores = []\n",
    "for srch_id, group in df_test.groupby('srch_id'):\n",
    "    if len(group) < 5:\n",
    "        continue  # the @5 in NDCG@5\n",
    "    true_relevance = group['relevance'].values.reshape(1, -1)\n",
    "    predicted_scores = group['pred'].values.reshape(1, -1)\n",
    "    score = ndcg_score(true_relevance, predicted_scores, k=5)\n",
    "    ndcg_scores.append(score)\n",
    "mean_ndcg = np.mean(ndcg_scores)\n",
    "print(f\"Mean NDCG@5: {mean_ndcg:.4f}\")"
   ]
  },
  {
   "cell_type": "markdown",
   "id": "d551ad31-3689-4d30-a999-4a0efc29a2a8",
   "metadata": {},
   "source": [
    "### Results\n",
    "all but date_time: 0.3821  \n",
    "all but date_time + mean, median, std per prop_id of all features (200 rounds, 0.8/0.2 train/test): 0.4006  \n",
    "all but date_time + mean, median, std per prop_id of all features (286 rounds, 0.8/0.2 train/test): 0.4035"
   ]
  },
  {
   "cell_type": "markdown",
   "id": "f91e76de-3630-4060-b073-b09bfa2fa41b",
   "metadata": {},
   "source": [
    "### XGBoost categorical (yes/no booking)"
   ]
  },
  {
   "cell_type": "code",
   "execution_count": null,
   "id": "fe63e45b-03fb-4121-814d-ea5ff1333667",
   "metadata": {},
   "outputs": [],
   "source": [
    "X, y = df.drop(['position', 'click_bool', 'booking_bool', 'gross_bookings_usd', 'date_time'], axis=1), df[['booking_bool']]\n",
    "y_encoded = OrdinalEncoder().fit_transform(y)\n",
    "X_train, X_test, y_train, y_test = train_test_split(X, y, random_state=1)\n",
    "dtrain_reg = xgb.DMatrix(X_train, y_train, enable_categorical=True)\n",
    "dtest_reg = xgb.DMatrix(X_test, y_test, enable_categorical=True)"
   ]
  },
  {
   "cell_type": "code",
   "execution_count": null,
   "id": "1755d9f3-3943-4e47-be03-b7be365f188a",
   "metadata": {},
   "outputs": [],
   "source": [
    "params = {\n",
    "    \"objective\": \"binary:logistic\",\n",
    "    \"tree_method\": \"hist\",\n",
    "    \"device\": \"cuda\",\n",
    "    \"eval_metric\": [\"error\", \"logloss\", \"auc\"]\n",
    "         }\n",
    "evals = [(dtrain_reg, \"train\"), (dtest_reg, \"validation\")]\n",
    "n = 200\n",
    "\n",
    "\n",
    "model = xgb.train(\n",
    "   params=params,\n",
    "   dtrain=dtrain_reg,\n",
    "   num_boost_round=n,\n",
    "   evals=evals,\n",
    "   verbose_eval=10,\n",
    "   early_stopping_rounds=20\n",
    ")"
   ]
  },
  {
   "cell_type": "code",
   "execution_count": null,
   "id": "04c81a37-6629-417e-a6fd-280036240a0c",
   "metadata": {},
   "outputs": [],
   "source": [
    "y_proba = model.predict(dtest_reg)\n",
    "y_pred = (y_proba > 0.5).astype(int)\n",
    "y_true = dtest_reg.get_label()\n",
    "print(y_pred[:10])\n",
    "print(y_true[:10])\n",
    "acc = accuracy_score(y_true, y_pred)\n",
    "print(\"Accuracy:\", acc)\n",
    "\n",
    "print(\"\\nClassification Report:\")\n",
    "print(classification_report(y_true, y_pred))\n",
    "\n",
    "print(\"\\nConfusion Matrix:\")\n",
    "print(confusion_matrix(y_true, y_pred))"
   ]
  },
  {
   "cell_type": "markdown",
   "id": "7b733baa-2d6f-40b4-9605-ee1aafa036e5",
   "metadata": {},
   "source": [
    "### Results\n",
    "all but date_time: 0.9719390409870384"
   ]
  },
  {
   "cell_type": "markdown",
   "id": "0397de51-a9f0-4b33-90b8-d16e657ae2f5",
   "metadata": {},
   "source": [
    "## Submission generator"
   ]
  },
  {
   "cell_type": "code",
   "execution_count": null,
   "id": "ba8db4b8-4d8d-4f6b-bad6-cb103aa3e170",
   "metadata": {},
   "outputs": [],
   "source": [
    "model = xgb.Booster()\n",
    "model.load_model('xgboost_model.json')"
   ]
  },
  {
   "cell_type": "code",
   "execution_count": null,
   "id": "330430d0-cb1c-470c-9edb-cf173c3b53d2",
   "metadata": {},
   "outputs": [],
   "source": [
    "test_df = load_dataset(test_file_stats).drop(['relevance_std', 'relevance', 'relevance_mean', 'relevance_median', 'date_time'], axis=1)"
   ]
  },
  {
   "cell_type": "code",
   "execution_count": null,
   "id": "3abb5929-a4cc-405f-929f-6d4f59522549",
   "metadata": {},
   "outputs": [],
   "source": [
    "dtest = xgb.DMatrix(test_df, enable_categorical=True)"
   ]
  },
  {
   "cell_type": "code",
   "execution_count": null,
   "id": "f1c536d6-1502-4cfc-b51c-27fc50a68a43",
   "metadata": {},
   "outputs": [],
   "source": [
    "y_pred = model.predict(dtest)\n",
    "test_df['pred'] = y_pred"
   ]
  },
  {
   "cell_type": "code",
   "execution_count": null,
   "id": "0ac04039-d807-4e88-b888-279c1bbe1d4c",
   "metadata": {},
   "outputs": [],
   "source": [
    "# Sort prop_ids within search (srch_id) by descending predicted relevance\n",
    "test_df_filtered = test_df[['srch_id', 'prop_id', 'pred']]\n",
    "test_df_sorted = test_df_filtered.sort_values(by=[\"srch_id\", \"pred\"], ascending=[True, False])"
   ]
  },
  {
   "cell_type": "code",
   "execution_count": null,
   "id": "3902f5f6-c785-44a6-aac4-b793e2a456a5",
   "metadata": {},
   "outputs": [],
   "source": [
    "test_df_sorted.head(30)"
   ]
  },
  {
   "cell_type": "markdown",
   "id": "bb60f5ac-6103-43ba-aa20-5e11599610a5",
   "metadata": {},
   "source": [
    "#### XGBoost rank"
   ]
  },
  {
   "cell_type": "code",
   "execution_count": null,
   "id": "a396b099-d3f3-4662-8d13-9a269aebf647",
   "metadata": {},
   "outputs": [],
   "source": [
    "df_submission = test_df_sorted.drop(columns=['pred'])\n",
    "df_submission.to_csv('VU-DM-2025-Group-23 (1).csv', index=False)"
   ]
  },
  {
   "cell_type": "markdown",
   "id": "267505d9-ffad-4e76-90f0-0347d4d8ce21",
   "metadata": {},
   "source": [
    "#### XGBoost categorical"
   ]
  },
  {
   "cell_type": "code",
   "execution_count": null,
   "id": "35c8bf57-3abc-4a3e-bd3f-229b8e38ecc3",
   "metadata": {},
   "outputs": [],
   "source": [
    "df_submission = test_df_sorted.drop(columns=['pred'])\n",
    "df_submission.to_csv('VU-DM-2025-Group-23.csv', index=False)"
   ]
  },
  {
   "cell_type": "markdown",
   "id": "8ac158b3-67f2-467d-a255-69227fe48058",
   "metadata": {},
   "source": [
    "----------------------------"
   ]
  },
  {
   "cell_type": "code",
   "execution_count": null,
   "id": "b2dd45c6-af6c-4279-96ce-e118b10ae6e9",
   "metadata": {},
   "outputs": [],
   "source": [
    "df_submission.shape"
   ]
  }
 ],
 "metadata": {
  "kernelspec": {
   "display_name": "Python (py12)",
   "language": "python",
   "name": "py12"
  },
  "language_info": {
   "codemirror_mode": {
    "name": "ipython",
    "version": 3
   },
   "file_extension": ".py",
   "mimetype": "text/x-python",
   "name": "python",
   "nbconvert_exporter": "python",
   "pygments_lexer": "ipython3",
   "version": "3.12.7"
  }
 },
 "nbformat": 4,
 "nbformat_minor": 5
}
