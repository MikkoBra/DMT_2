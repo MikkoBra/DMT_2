{
 "cells": [
  {
   "cell_type": "code",
   "execution_count": null,
   "id": "1741ddde-7425-4dd0-9a87-9c09f939092b",
   "metadata": {},
   "outputs": [],
   "source": [
    "import numpy as np\n",
    "import pandas as pd\n",
    "import matplotlib.pyplot as plt\n",
    "from sklearn.preprocessing import MinMaxScaler, OrdinalEncoder\n",
    "from sklearn.feature_selection import SelectKBest, mutual_info_classif\n",
    "from sklearn.model_selection import train_test_split, GroupShuffleSplit, GroupKFold\n",
    "from sklearn.metrics import accuracy_score, classification_report, confusion_matrix, ndcg_score\n",
    "from sklearn.linear_model import Ridge\n",
    "import xgboost as xgb\n",
    "from catboost import CatBoostRanker, Pool\n",
    "import joblib\n",
    "import lightgbm as lgb\n",
    "from lightgbm import early_stopping, log_evaluation,LGBMRanker\n",
    "import itertools"
   ]
  },
  {
   "cell_type": "markdown",
   "id": "633cf37d-5efc-458a-a3d2-6ab72b709f0c",
   "metadata": {},
   "source": [
    "## Data"
   ]
  },
  {
   "cell_type": "code",
   "execution_count": null,
   "id": "27401778-e8ec-4953-8667-e486e6e39772",
   "metadata": {},
   "outputs": [],
   "source": [
    "def load_dataset(filename):\n",
    "    return pd.read_csv(filename)\n",
    "\n",
    "training_file_raw = 'training_set_VU_DM.csv'\n",
    "test_file_raw = 'test_set_VU_DM.csv'\n",
    "training_file_stats = 'training_set_stats_VU_DM.csv'\n",
    "test_file_stats = 'test_set_stats_VU_DM.csv'"
   ]
  },
  {
   "cell_type": "code",
   "execution_count": null,
   "id": "a2a2fda4-1c77-46df-99cd-b693d9616a3a",
   "metadata": {},
   "outputs": [],
   "source": [
    "df = load_dataset(training_file_raw)\n",
    "print(df.columns)"
   ]
  },
  {
   "cell_type": "markdown",
   "id": "697de804-6796-4902-a613-84c099c9ea3c",
   "metadata": {},
   "source": [
    "#### Features\n",
    "|Feature  |Type | Description |Potential predictor|\n",
    "|:------- |:----|:------------|------------------:|\n",
    "|srch_id                     |int      |ID of search/user| |\n",
    "|date_time                   |Datetime |Time of search| |\n",
    "|site_id                     |int      |ID of Expedia link (.com/.co.uk/.co.jp...)| |\n",
    "|visitor_location_country_id |int      |ID of user's country| *|\n",
    "|visitor_hist_starrating     |float    |mean star rating of the customer's hotel purchases| *|\n",
    "|visitor_hist_adr_usd        |float    |mean price per night of the customer's hotel purchases| *|\n",
    "|prop_country_id             |int      |ID of the hotel's country| *|\n",
    "|prop_id                     |int      |ID of hotel| |\n",
    "|prop_starrating             |int      |star rating of hotel| *|\n",
    "|prop_review_score           |float    |review score of hotel (rounded to 0.5)| **|\n",
    "|prop_brand_bool             |int      |part of major hotel chain (1) or not (0)| *|\n",
    "|prop_location_score1        |float    |desirability score of the hotel's location (primary score)                   |                  ** |\n",
    "|prop_location_score2        |float    |desirability score of the hotel's location (secondary score)                 |                  ** |\n",
    "|prop_log_historical_price   |float    |log of mean price of hotel in the last trading period                        |                   |\n",
    "|price_usd                   |float    |displayed price of the hotel                                                 |                  ** |\n",
    "|promotion_flag              |int      |1 if hotel had a sale price promotion                                        |                  ** |\n",
    "|srch_destination_id         |int      |ID of the searched destination                                               |                   |\n",
    "|srch_length_of_stay         |int      |number of nights in the stay                                                 |                  * |\n",
    "|srch_booking_window         |int      |days between search and stay start                                           |                  * |\n",
    "|srch_adults_count           |int      |number of adults in the search                                               |                  * |\n",
    "|srch_children_count         |int      |number of children in the search                                             |                  * |\n",
    "|srch_room_count             |int      |number of rooms in the search                                                |                  * |\n",
    "|srch_saturday_night_bool    |bool     |1 if the stay includes a Saturday night                                      |                   |\n",
    "|srch_query_affinity_score   |float    |log probability a hotel will be clicked on the internet                      |                   |\n",
    "|orig_destination_distance   |float    |physical distance between hotel and customer                                 |                   |\n",
    "|random_bool                 |bool     |1 if results were shown in random order                                      |                   |\n",
    "|comp1_rate                  |int      |price comparison vs. competitor 1 (-1: higher, 0: same, +1: lower)           |                   |\n",
    "|comp1_inv                   |int      |availability vs. competitor 1 (+1: competitor unavailable, 0: both available)|                   |\n",
    "|comp1_rate_percent_diff     |float    |absolute percentage price difference with competitor 1                       |                   |\n",
    "|comp2_rate                  |int      |same as comp1_rate for competitor 2                                          |                   |\n",
    "|comp2_inv                   |int      |same as comp1_inv for competitor 2                                           |                   |\n",
    "|comp2_rate_percent_diff     |float    |same as comp1_rate_percent_diff for competitor 2                             |                   |\n",
    "|...                         |...      |same structure for competitors 3 through 8                                   |                   |\n",
    "|position                    |int      |rank of hotel in search results (training data only)                         |                   |\n",
    "|click_bool                  |bool     |1 if user clicked on the hotel  (training data only)                         |                   |\n",
    "|booking_bool                |bool     |1 if user booked the hotel      (training data only)                         |                   |\n",
    "|gross_bookings_usd           |float    |actual value of the booking (includes taxes, fees, etc.) (training data only)|                   |    "
   ]
  },
  {
   "cell_type": "code",
   "execution_count": null,
   "id": "aa9fc154-7206-470a-b62c-06396820acc2",
   "metadata": {},
   "outputs": [],
   "source": [
    "def dataset_stats(df):\n",
    "    print(f'Number of features: {len(df.columns)}')\n",
    "    total_observations = len(df)\n",
    "    print(f'Number of observations: {len(df)}')\n",
    "    print(f'Number of rows with missing values: {df.isnull().any(axis=1).sum()}')\n",
    "    print(f'Number of columns with missing values: {df.isnull().any(axis=0).sum()}')\n",
    "    print(f'Percentage not-missing data for features with missing values:')\n",
    "    for feature in df.columns[df.isnull().any()]:\n",
    "        print(f\"{feature}: {100*(total_observations - df[feature].isnull().sum())/total_observations:.2f}% not missing\")\n",
    "\n",
    "dataset_stats(df)"
   ]
  },
  {
   "cell_type": "markdown",
   "id": "698413f0-f11e-4cd4-b484-75bf59b9bc4b",
   "metadata": {},
   "source": [
    "### Feature Engineering"
   ]
  },
  {
   "cell_type": "code",
   "execution_count": null,
   "id": "16bd75dc-78e2-49cf-bf11-6ea9e88e2796",
   "metadata": {},
   "outputs": [],
   "source": [
    "df = load_dataset(training_file_raw)"
   ]
  },
  {
   "cell_type": "code",
   "execution_count": null,
   "id": "fa35abff-73f9-49f6-83b3-8834303ef320",
   "metadata": {},
   "outputs": [],
   "source": [
    "df = load_dataset(test_file_raw)"
   ]
  },
  {
   "cell_type": "code",
   "execution_count": null,
   "id": "25253638-72f7-4bb1-ac4b-290304463026",
   "metadata": {},
   "outputs": [],
   "source": [
    "def add_engineered_columns(df_raw):\n",
    "    df = df_raw.copy()\n",
    "\n",
    "    df.loc[df['price_usd'] > 2060.0355, 'price_usd'] = np.nan # 0.999 percent of data maar kunnen dit nog aanpassen\n",
    "    df['price_per_night'] = df['price_usd'] / df['srch_length_of_stay']\n",
    "    df['month'] = pd.to_datetime(df['date_time']).dt.month\n",
    "\n",
    "    df['review_score_relative'] = (df['prop_review_score'] - df.groupby('srch_id')['prop_review_score'].transform('median'))\n",
    "    df['price_relative'] = (df['price_usd'] - df.groupby('srch_id')['price_usd'].transform('median'))\n",
    "\n",
    "    df['log_price_usd'] = np.log1p(df['price_usd'])\n",
    "    df['log_price_per_night'] = np.log1p(df['price_per_night'])\n",
    "\n",
    "    df['orig_dest_missing'] = df['orig_destination_distance'].isna().astype(int)\n",
    "    df['loc_score2_missing'] = df['prop_location_score2'].isna().astype(int)\n",
    "\n",
    "    #for col in ['orig_destination_distance', 'prop_location_score2']:\n",
    "    #    if col in df.columns:\n",
    "    #        df[col] = df[col].fillna(df[col].median())\n",
    "    return df"
   ]
  },
  {
   "cell_type": "code",
   "execution_count": null,
   "id": "5ebf7bae-019b-434c-a3f2-02d36797b8cc",
   "metadata": {},
   "outputs": [],
   "source": [
    "def compute_prop_stats(df):\n",
    "    exclude = [\n",
    "        'srch_id', 'prop_id', 'position', 'click_bool', 'booking_bool',\n",
    "        'gross_bookings_usd', 'relevance', 'price_usd', 'visitor_location_country_id',\n",
    "        'prop_country_id', 'site_id', 'srch_destination_id'\n",
    "    ]\n",
    "    numeric = df.select_dtypes('number').columns.drop(exclude)\n",
    "    means = df.groupby('prop_id')[numeric].mean().add_suffix('_mean')\n",
    "    meds  = df.groupby('prop_id')[numeric].median().add_suffix('_median')\n",
    "    stats = means.join(meds)\n",
    "    return stats\n",
    "\n",
    "def prepare_final_features(df, prop_stats):\n",
    "    df = df.merge(prop_stats, on='prop_id', how='left')\n",
    "    return df.drop(['position', 'click_bool', 'booking_bool', 'gross_bookings_usd', 'price_usd', 'date_time'], axis=1, errors='ignore') #ignores de waardes als er geen column is om te droppen"
   ]
  },
  {
   "cell_type": "code",
   "execution_count": null,
   "id": "763dae3b-fafe-4c65-95da-1c1752b60ed0",
   "metadata": {},
   "outputs": [],
   "source": [
    "train_raw = pd.read_csv(\"training_set_VU_DM.csv\")"
   ]
  },
  {
   "cell_type": "code",
   "execution_count": null,
   "id": "c3e1b113-adf0-4fd5-be22-51e6256ededc",
   "metadata": {},
   "outputs": [],
   "source": [
    "train_fe = add_engineered_columns(train_raw)\n",
    "\n",
    "train_fe['relevance'] = 0\n",
    "train_fe.loc[train_fe['click_bool'] == 1, 'relevance'] = 1\n",
    "train_fe.loc[train_fe['booking_bool'] == 1, 'relevance'] = 5\n",
    "\n",
    "prop_stats = compute_prop_stats(train_fe)"
   ]
  },
  {
   "cell_type": "code",
   "execution_count": null,
   "id": "18b806d7-9f99-4774-8021-6e5eca90408c",
   "metadata": {},
   "outputs": [],
   "source": [
    "train_final = prepare_final_features(train_fe, prop_stats)"
   ]
  },
  {
   "cell_type": "code",
   "execution_count": null,
   "id": "0f43831f-ae25-4b6e-8c70-819a576f766c",
   "metadata": {},
   "outputs": [],
   "source": [
    "train_final.to_csv(training_file_stats, index=False)"
   ]
  },
  {
   "cell_type": "code",
   "execution_count": null,
   "id": "421241d0-3434-4f90-aa65-bae9131a5351",
   "metadata": {},
   "outputs": [],
   "source": [
    "test_raw  = pd.read_csv(\"test_set_VU_DM.csv\")"
   ]
  },
  {
   "cell_type": "code",
   "execution_count": null,
   "id": "817e4c3d-59b3-4a1a-a3ab-c9a6d10dacc8",
   "metadata": {},
   "outputs": [],
   "source": [
    "test_fe  = add_engineered_columns(test_raw)"
   ]
  },
  {
   "cell_type": "code",
   "execution_count": null,
   "id": "adee7af8-efe6-4be5-b021-ee82b17fc54f",
   "metadata": {},
   "outputs": [],
   "source": [
    "test_final  = prepare_final_features(test_fe, prop_stats)"
   ]
  },
  {
   "cell_type": "code",
   "execution_count": null,
   "id": "14e17e6c-c41a-4494-967e-05093a25103a",
   "metadata": {},
   "outputs": [],
   "source": [
    "test_final.to_csv(test_file_stats, index=False)"
   ]
  },
  {
   "cell_type": "markdown",
   "id": "f1d70ac9-9622-441c-8349-86f8fc91a9c9",
   "metadata": {},
   "source": [
    "## Models"
   ]
  },
  {
   "cell_type": "markdown",
   "id": "51a277f0-6440-4b1c-a135-f7667a464d06",
   "metadata": {},
   "source": [
    "### XGBoost rank (relevance score)"
   ]
  },
  {
   "cell_type": "code",
   "execution_count": null,
   "id": "dfde7f56-b26d-4971-a684-bcb3b6474ab2",
   "metadata": {},
   "outputs": [],
   "source": [
    "df = load_dataset(training_file_stats)"
   ]
  },
  {
   "cell_type": "code",
   "execution_count": null,
   "id": "d00eefa4-477d-4dae-a9f9-2cd2d64c2c36",
   "metadata": {},
   "outputs": [],
   "source": [
    "# Make sure training features don't include grouping feature srch_id or target feature relevance\n",
    "X = df.drop(['srch_id', 'relevance'], axis=1)\n",
    "y = df['relevance']"
   ]
  },
  {
   "cell_type": "code",
   "execution_count": null,
   "id": "633caba4-1317-428c-83a9-58de24209a98",
   "metadata": {},
   "outputs": [],
   "source": [
    "# Make sure searches are not split across the training and test sets\n",
    "groups = df.groupby('srch_id').size().to_numpy()\n",
    "gss = GroupShuffleSplit(test_size=0.2, random_state=1)\n",
    "train_idx, test_idx = next(gss.split(X, y, groups=df['srch_id']))"
   ]
  },
  {
   "cell_type": "code",
   "execution_count": null,
   "id": "1d9bb65c-1c28-4436-acd1-e1aeb0f0171d",
   "metadata": {},
   "outputs": [],
   "source": [
    "X_train_all = X.iloc[train_idx]\n",
    "y_train_all = y.iloc[train_idx]\n",
    "groups_train_all = df.iloc[train_idx]['srch_id']"
   ]
  },
  {
   "cell_type": "code",
   "execution_count": null,
   "id": "a7d42d1f-7870-4383-9b51-ba2058bd45a2",
   "metadata": {},
   "outputs": [],
   "source": [
    "gss_val = GroupShuffleSplit(test_size=0.2, random_state=2)\n",
    "train_idx_final, val_idx = next(gss_val.split(X_train_all, y_train_all, groups=groups_train_all))"
   ]
  },
  {
   "cell_type": "code",
   "execution_count": null,
   "id": "4c17bb1a-beb9-43f0-a82a-05c2bbf6c4c7",
   "metadata": {},
   "outputs": [],
   "source": [
    "X_train, y_train = X_train_all.iloc[train_idx_final], y_train_all.iloc[train_idx_final]"
   ]
  },
  {
   "cell_type": "code",
   "execution_count": null,
   "id": "dd9fbd06-bfbc-40de-a18c-498fdb2018e2",
   "metadata": {},
   "outputs": [],
   "source": [
    "X_val, y_val = X_train_all.iloc[val_idx], y_train_all.iloc[val_idx]"
   ]
  },
  {
   "cell_type": "code",
   "execution_count": null,
   "id": "8c6d870e-f5dc-491a-8f4a-0651154453a7",
   "metadata": {},
   "outputs": [],
   "source": [
    "X_test, y_test = X.iloc[test_idx], y.iloc[test_idx]"
   ]
  },
  {
   "cell_type": "code",
   "execution_count": null,
   "id": "192312ed-fb47-4698-8ffe-c82b55437ee4",
   "metadata": {},
   "outputs": [],
   "source": [
    "dtrain = xgb.DMatrix(X_train, y_train, enable_categorical=True)\n",
    "dval = xgb.DMatrix(X_val, y_val, enable_categorical=True)"
   ]
  },
  {
   "cell_type": "code",
   "execution_count": null,
   "id": "af832dec-1819-4dd9-8fba-f6b4e0201739",
   "metadata": {},
   "outputs": [],
   "source": [
    "# Set group info\n",
    "groups_train = groups_train_all.iloc[train_idx_final]\n",
    "groups_val = groups_train_all.iloc[val_idx]\n",
    "\n",
    "group_train = groups_train.groupby(groups_train).size().to_numpy()\n",
    "group_val = groups_val.groupby(groups_val).size().to_numpy()"
   ]
  },
  {
   "cell_type": "code",
   "execution_count": null,
   "id": "1a98f85e-66ec-427e-8560-6c6d238c63a0",
   "metadata": {},
   "outputs": [],
   "source": [
    "dtrain.set_group(group_train)\n",
    "dval.set_group(group_val)"
   ]
  },
  {
   "cell_type": "code",
   "execution_count": null,
   "id": "b97f860e-dceb-4734-9e69-57e8ce61df8d",
   "metadata": {},
   "outputs": [],
   "source": [
    "# What to evaluate during training, last one is used for early stopping\n",
    "evals = [(dtrain, \"train\"), (dval, \"validation\")]"
   ]
  },
  {
   "cell_type": "markdown",
   "id": "dccc166a-9799-4044-a08a-de2969cd8394",
   "metadata": {},
   "source": [
    "#### Grid search"
   ]
  },
  {
   "cell_type": "code",
   "execution_count": null,
   "id": "929373c7-d3b4-40a1-8c32-7e300ac80566",
   "metadata": {},
   "outputs": [],
   "source": [
    "base_params = {\n",
    "    \"objective\": \"rank:ndcg\",\n",
    "    \"tree_method\": \"hist\",\n",
    "    \"device\": \"gpu\",\n",
    "    \"eval_metric\": \"ndcg@5\",\n",
    "    \"eta\": 0.1,\n",
    "    \"subsample\": 1,\n",
    "    \"colsample_bytree\": 0.8,\n",
    "    \"min_child_weight\": 5,\n",
    "    \"max_depth\": 6,\n",
    "    \"lambda\": 1\n",
    "}\n",
    "\n",
    "param_grid = {\n",
    "    \"alpha\": [0.5, 0],\n",
    "    \"gamma\": [0, 1]\n",
    "}\n",
    "\n",
    "# combinations of parameters\n",
    "keys, values = zip(*param_grid.items())\n",
    "param_combinations = [dict(zip(keys, v)) for v in itertools.product(*values)]\n",
    "\n",
    "results = []\n",
    "for i, combo in enumerate(param_combinations):\n",
    "    print(f\"Training model {i+1}/{len(param_combinations)} with params: {combo}\")\n",
    "    params = {**base_params, **combo}\n",
    "\n",
    "    model = xgb.train(\n",
    "        params=params,\n",
    "        dtrain=dtrain,\n",
    "        num_boost_round=5000,\n",
    "        evals=evals,\n",
    "        early_stopping_rounds=50,\n",
    "        verbose_eval=100\n",
    "    )\n",
    "\n",
    "    results.append({\n",
    "        **combo,\n",
    "        \"valid_ndcg@5\": model.best_score,\n",
    "        \"best_iteration\": model.best_iteration\n",
    "    })\n",
    "    print(f'validation: {model.best_score}, best_it: {model.best_iteration}')\n",
    "    \n",
    "    del model # clear model before training next\n",
    "\n",
    "results_df = pd.DataFrame(results)\n",
    "results_df = results_df.sort_values(by=\"valid_ndcg@5\", ascending=False)\n",
    "results_df.to_csv(\"xgb_grid_search_results_eta1.csv\", index=False)\n",
    "print(results_df.head())"
   ]
  },
  {
   "cell_type": "markdown",
   "id": "6b03c29b-e351-4745-8d80-d3582e4b3422",
   "metadata": {},
   "source": [
    "#### Single model training"
   ]
  },
  {
   "cell_type": "code",
   "execution_count": null,
   "id": "5b1ddc95-9752-4282-9ecd-cf90648728c2",
   "metadata": {},
   "outputs": [],
   "source": [
    "# Used in evaluating model parameters\n",
    "def train_xgb_validation(dtrain, dval):\n",
    "    params = {\n",
    "        \"objective\": \"rank:ndcg\", # ranking as oppposed to regression or binary classification\n",
    "        \"tree_method\": \"hist\",\n",
    "        \"device\": \"gpu\",          # making use of gpu in training\n",
    "        \"eval_metric\": \"ndcg@5\",\n",
    "        \"eta\": 0.1,                  # 0.3\n",
    "        \"max_depth\": 6,               # 6\n",
    "        \"min_child_weight\": 5,       # 1\n",
    "        \"gamma\": 0,                   # 0\n",
    "        \"subsample\": 1,             # 1\n",
    "        \"colsample_bytree\": 0.8,      # 1\n",
    "        \"lambda\": 1,                # 1\n",
    "        \"alpha\": 0.5,                 # 0\n",
    "        # \"lambdarank_num_pair_per_sample\": 5,\n",
    "        # \"lambdarank_unbiased\": \"true\"\n",
    "    }\n",
    "    evals = [(dtrain, \"train\"), (dval, \"validation\")]\n",
    "    \n",
    "    model = xgb.train(\n",
    "        params=params,\n",
    "        dtrain=dtrain,\n",
    "        num_boost_round=1070,     # max rounds\n",
    "        evals=evals,\n",
    "        # early_stopping_rounds=50, # stop training if metric has not improved for 30 rounds (prevent overfitting)\n",
    "        verbose_eval=50            # how often to print metrics\n",
    "    )\n",
    "    return model, model.predict(dval)"
   ]
  },
  {
   "cell_type": "code",
   "execution_count": null,
   "id": "2f5e5266-2799-4564-a6c9-ef3394ead859",
   "metadata": {},
   "outputs": [],
   "source": [
    "# Used for final training after model fitting\n",
    "def train_xgb(dtrain):\n",
    "    params = {\n",
    "        \"objective\": \"rank:ndcg\", # ranking as oppposed to regression or binary classification\n",
    "        \"tree_method\": \"hist\",\n",
    "        \"device\": \"gpu\",          # making use of gpu in training\n",
    "        \"eval_metric\": \"ndcg@5\",\n",
    "        \"eta\": 0.1,                  # 0.3\n",
    "        \"max_depth\": 6,               # 6\n",
    "        \"min_child_weight\": 5,       # 1\n",
    "        \"gamma\": 0,                   # 0\n",
    "        \"subsample\": 1,             # 1\n",
    "        \"colsample_bytree\": 0.8,      # 1\n",
    "        \"lambda\": 1,                # 1\n",
    "        \"alpha\": 0.5,                 # 0\n",
    "        # \"lambdarank_num_pair_per_sample\": 5,\n",
    "        # \"lambdarank_unbiased\": \"true\"\n",
    "    }\n",
    "    evals = [(dtrain, \"train\")]\n",
    "    \n",
    "    model = xgb.train(\n",
    "        params=params,\n",
    "        dtrain=dtrain,\n",
    "        num_boost_round=1070,     # max rounds\n",
    "        evals=evals,\n",
    "        # early_stopping_rounds=50, # stop training if metric has not improved for 30 rounds (prevent overfitting)\n",
    "        verbose_eval=50            # how often to print metrics\n",
    "    )\n",
    "    return model"
   ]
  },
  {
   "cell_type": "code",
   "execution_count": null,
   "id": "cc0c2eb1-bca8-45aa-89be-e7344fea7835",
   "metadata": {},
   "outputs": [],
   "source": [
    "df = load_dataset(training_file_stats)"
   ]
  },
  {
   "cell_type": "code",
   "execution_count": null,
   "id": "cf367518-e6d5-4aad-82a8-307685c47be1",
   "metadata": {},
   "outputs": [],
   "source": [
    "# Make sure training features don't include grouping feature srch_id or target feature relevance\n",
    "X = df.drop(['srch_id', 'relevance'], axis=1)\n",
    "y = df['relevance']"
   ]
  },
  {
   "cell_type": "code",
   "execution_count": null,
   "id": "4beaf791-163f-48cf-b0eb-3c74e751abbd",
   "metadata": {},
   "outputs": [],
   "source": [
    "# final (all data)\n",
    "dtrain = xgb.DMatrix(X, y, enable_categorical=True)\n",
    "groups_train = df['srch_id']"
   ]
  },
  {
   "cell_type": "code",
   "execution_count": null,
   "id": "02a2f7f6-abf6-4ad8-ac8d-490f157dcfa2",
   "metadata": {},
   "outputs": [],
   "source": [
    "# evaluation (train/test)\n",
    "groups = df.groupby('srch_id').size().to_numpy()\n",
    "gss = GroupShuffleSplit(test_size=0.2, random_state=1)\n",
    "train_idx, test_idx = next(gss.split(X, y, groups=df['srch_id']))\n",
    "\n",
    "X_train_all = X.iloc[train_idx]\n",
    "y_train_all = y.iloc[train_idx]\n",
    "dtrain = xgb.DMatrix(X_train_all, y_train_all, enable_categorical=True)\n",
    "groups_train = df.iloc[train_idx]['srch_id']"
   ]
  },
  {
   "cell_type": "code",
   "execution_count": null,
   "id": "7507d452-ad8c-4d02-8107-decca59e9709",
   "metadata": {},
   "outputs": [],
   "source": [
    "group_train = groups_train.groupby(groups_train).size().to_numpy()\n",
    "dtrain.set_group(group_train)\n",
    "xgb_model = train_xgb(dtrain)"
   ]
  },
  {
   "cell_type": "code",
   "execution_count": null,
   "id": "d81c73cd-ddea-4b97-a5f2-63868a5ca8a8",
   "metadata": {},
   "outputs": [],
   "source": [
    "# save model to json file to avoid having to train again\n",
    "lgb_model.save_model('xgboost_model_final.json')"
   ]
  },
  {
   "cell_type": "markdown",
   "id": "7d9f7b3f-f8a1-4a60-8ee7-32dab2e4ddf1",
   "metadata": {},
   "source": [
    "#### Evaluation"
   ]
  },
  {
   "cell_type": "code",
   "execution_count": null,
   "id": "74107b50-994b-4551-a034-2d99675b168b",
   "metadata": {},
   "outputs": [],
   "source": [
    "xgb_model = xgb.Booster()\n",
    "xgb_model.load_model('xgboost_model_eta_0_1.json')"
   ]
  },
  {
   "cell_type": "code",
   "execution_count": null,
   "id": "e845205d-7171-4103-b3dd-b0f4cee6b556",
   "metadata": {},
   "outputs": [],
   "source": [
    "test_df = df.iloc[test_idx].copy()"
   ]
  },
  {
   "cell_type": "code",
   "execution_count": null,
   "id": "6c46f0b0-88c8-4779-a120-c646c6156e22",
   "metadata": {},
   "outputs": [],
   "source": [
    "X_test, y_test = X.iloc[test_idx], y.iloc[test_idx]"
   ]
  },
  {
   "cell_type": "code",
   "execution_count": null,
   "id": "47bb0d78-1155-4bda-9b5c-ddfeed0490b8",
   "metadata": {},
   "outputs": [],
   "source": [
    "dtest = xgb.DMatrix(X_test, y_test, enable_categorical=True)"
   ]
  },
  {
   "cell_type": "code",
   "execution_count": null,
   "id": "30e001ef-1c6f-4caa-acd3-4ae19ebf2b23",
   "metadata": {},
   "outputs": [],
   "source": [
    "preds = model.predict(dtest)\n",
    "test_df['pred'] = preds\n",
    "\n",
    "# Compute NDCG@5 per srch_id and take the average\n",
    "ndcg_scores = []\n",
    "for srch_id, group in test_df.groupby('srch_id'):\n",
    "    if len(group) < 5:\n",
    "        continue  # the @5 in NDCG@5\n",
    "    true_relevance = group['relevance'].values.reshape(1, -1)\n",
    "    predicted_scores = group['pred'].values.reshape(1, -1)\n",
    "    score = ndcg_score(true_relevance, predicted_scores, k=5)\n",
    "    ndcg_scores.append(score)\n",
    "mean_ndcg = np.mean(ndcg_scores)\n",
    "print(f\"Mean NDCG@5: {mean_ndcg:.5f}\")"
   ]
  },
  {
   "cell_type": "markdown",
   "id": "d551ad31-3689-4d30-a999-4a0efc29a2a8",
   "metadata": {},
   "source": [
    "#### Results\n",
    "mean/median + transformed data: 0.39962  \n",
    "mean/std/median + transformed data feature selection (marinde): 0.40116  \n",
    "mean/std/median + transformed data fitted: 0.40361  \n",
    "mean/std/median + transformed data eta 0.1 fitted for 0.3: 0.40855  \n",
    "mean/std/median + transformed data eta 0.1: 0.41082  "
   ]
  },
  {
   "cell_type": "markdown",
   "id": "471d348b-8238-4e1e-890a-86baa226c4bd",
   "metadata": {},
   "source": [
    "### Ensemble"
   ]
  },
  {
   "cell_type": "markdown",
   "id": "97d8f28d-8748-4db0-af3f-427475c6b922",
   "metadata": {},
   "source": [
    "**XGBoost**"
   ]
  },
  {
   "cell_type": "code",
   "execution_count": null,
   "id": "ba8db4b8-4d8d-4f6b-bad6-cb103aa3e170",
   "metadata": {},
   "outputs": [],
   "source": [
    "xgb_model = xgb.Booster()\n",
    "xgb_model.load_model('xgboost_model_final.json')"
   ]
  },
  {
   "cell_type": "markdown",
   "id": "ccb42b34-b689-4a40-a9e9-107aafe3070d",
   "metadata": {},
   "source": [
    "**LightGBM**"
   ]
  },
  {
   "cell_type": "code",
   "execution_count": null,
   "id": "1bb27b46-efee-4d44-bc37-48d8523ff087",
   "metadata": {},
   "outputs": [],
   "source": [
    "lgb_model = lgb.Booster(model_file=\"lgbm_full.txt\")"
   ]
  },
  {
   "cell_type": "markdown",
   "id": "33252641-6df0-4359-890d-be40c636e5cd",
   "metadata": {},
   "source": [
    "**CatBoost (not finished)**"
   ]
  },
  {
   "cell_type": "code",
   "execution_count": null,
   "id": "60006404-4117-4fa7-a1fa-269092fb9245",
   "metadata": {},
   "outputs": [],
   "source": [
    "cat_model = CatBoostRanker()\n",
    "cat_model.load_model(\"catboost_model.cbm\")"
   ]
  },
  {
   "cell_type": "markdown",
   "id": "471f2334-29ab-4e71-9989-8541cb60f3c4",
   "metadata": {},
   "source": [
    "----------------------------"
   ]
  },
  {
   "cell_type": "code",
   "execution_count": null,
   "id": "06b678d0-4a43-403f-a48e-9cf97d549e0d",
   "metadata": {},
   "outputs": [],
   "source": [
    "df = load_dataset(training_file_stats)"
   ]
  },
  {
   "cell_type": "code",
   "execution_count": null,
   "id": "c13520bc-60af-4f37-a5d7-e5d85e1dc616",
   "metadata": {},
   "outputs": [],
   "source": [
    "# make sure training features are only the ones available in the test file and don't include target feature relevance\n",
    "X = df.drop(['srch_id', 'relevance'], axis=1)\n",
    "y = df['relevance']"
   ]
  },
  {
   "cell_type": "code",
   "execution_count": null,
   "id": "0af3df7b-72a1-47ed-b550-d549157cba7c",
   "metadata": {},
   "outputs": [],
   "source": [
    "gss = GroupShuffleSplit(test_size=0.2, random_state=1)\n",
    "train_idx_all, test_idx = next(gss.split(X, y, groups=df['srch_id']))"
   ]
  },
  {
   "cell_type": "code",
   "execution_count": null,
   "id": "6d44fd53-cc6a-4e7d-95d2-daf1cc346366",
   "metadata": {},
   "outputs": [],
   "source": [
    "X_train_all, y_train_all = X.iloc[train_idx_all], y.iloc[train_idx_all]\n",
    "groups_train_all = df.iloc[train_idx_all]['srch_id']"
   ]
  },
  {
   "cell_type": "code",
   "execution_count": null,
   "id": "4a80e2f2-e1af-4c81-872b-82b072a51198",
   "metadata": {},
   "outputs": [],
   "source": [
    "gss_val = GroupShuffleSplit(test_size=0.2, random_state=2)\n",
    "train_idx_final, val_idx = next(gss_val.split(X_train_all, y_train_all, groups=groups_train_all))\n",
    "X_train, y_train = X_train_all.iloc[train_idx_final], y_train_all.iloc[train_idx_final]\n",
    "X_val, y_val = X_train_all.iloc[val_idx], y_train_all.iloc[val_idx]"
   ]
  },
  {
   "cell_type": "code",
   "execution_count": null,
   "id": "e2b36667-707b-466b-a0ad-33a0b2609100",
   "metadata": {},
   "outputs": [],
   "source": [
    "X_test, y_test = X.iloc[test_idx], y.iloc[test_idx]"
   ]
  },
  {
   "cell_type": "code",
   "execution_count": null,
   "id": "6fd86690-4528-4664-98b7-7bc30bd8e7f9",
   "metadata": {},
   "outputs": [],
   "source": [
    "dtest = xgb.DMatrix(X_test, y_test, enable_categorical=True)"
   ]
  },
  {
   "cell_type": "code",
   "execution_count": null,
   "id": "43336858-1488-4e68-b980-b1040fa7d119",
   "metadata": {},
   "outputs": [],
   "source": [
    "xgb_pred = model.predict(dtest)\n",
    "lgb_pred = lgb_model.predict(X_test)\n",
    "\n",
    "all_preds = np.vstack([xgb_pred, lgb_pred]).T\n",
    "scaled = MinMaxScaler().fit_transform(all_preds)\n",
    "xgb_scaled, lgb_scaled = scaled[:, 0], scaled[:, 1]"
   ]
  },
  {
   "cell_type": "code",
   "execution_count": null,
   "id": "55a2c456-956a-41f3-a752-96ccdd301bc1",
   "metadata": {},
   "outputs": [],
   "source": [
    "xgb_proportion = 0.7\n",
    "lgb_proportion = 0.3"
   ]
  },
  {
   "cell_type": "code",
   "execution_count": null,
   "id": "eb9dcabb-518c-4d81-a80c-67fb49622ace",
   "metadata": {},
   "outputs": [],
   "source": [
    "total_pred = xgb_proportion * xgb_scaled + lgb_proportion * lgb_scaled"
   ]
  },
  {
   "cell_type": "code",
   "execution_count": null,
   "id": "e3d4766f-65b8-4168-b497-f370cf9e327d",
   "metadata": {},
   "outputs": [],
   "source": [
    "test_df = df.iloc[test_idx].copy()"
   ]
  },
  {
   "cell_type": "code",
   "execution_count": null,
   "id": "53f76ce5-efa4-4ed6-8128-4ac0e14f6e81",
   "metadata": {},
   "outputs": [],
   "source": [
    "test_df['pred'] = total_pred\n",
    "\n",
    "# compute NDCG@5 per srch_id and take the average\n",
    "ndcg_scores = []\n",
    "for srch_id, group in df_test.groupby('srch_id'):\n",
    "    if len(group) < 5:\n",
    "        continue  # the @5 in NDCG@5\n",
    "    true_relevance = group['relevance'].values.reshape(1, -1)\n",
    "    predicted_scores = group['pred'].values.reshape(1, -1)\n",
    "    score = ndcg_score(true_relevance, predicted_scores, k=5)\n",
    "    ndcg_scores.append(score)\n",
    "mean_ndcg = np.mean(ndcg_scores)\n",
    "print(f\"Mean NDCG@5: {mean_ndcg:.4f}\")"
   ]
  },
  {
   "cell_type": "markdown",
   "id": "1d3b09cb-323b-4929-9536-5496cf386c40",
   "metadata": {},
   "source": [
    "#### Results\n",
    "xgb/lgb 0.65/0.35: 0.4120  \n",
    "xgb/lgb 0.7/0.3: 0.4120  \n",
    "xgb/lgb 0.75/0.25: 0.4120  \n",
    "xgb/lgb 0.8/0.2: 0.4115 (i think but lower)  "
   ]
  },
  {
   "cell_type": "markdown",
   "id": "7f344586-8e3d-41ef-9f66-fd19a3e0cc0a",
   "metadata": {},
   "source": [
    "### LightGBM"
   ]
  },
  {
   "cell_type": "code",
   "execution_count": null,
   "id": "68782012-a297-4e7b-b2c1-909918899c49",
   "metadata": {},
   "outputs": [],
   "source": [
    "df = load_dataset(training_file_stats)"
   ]
  },
  {
   "cell_type": "code",
   "execution_count": null,
   "id": "092382d0-a274-455f-b4e5-c6905ffad773",
   "metadata": {},
   "outputs": [],
   "source": [
    "X = df.drop(['srch_id', 'relevance'], axis=1)\n",
    "y = df['relevance']"
   ]
  },
  {
   "cell_type": "code",
   "execution_count": null,
   "id": "6bc4c425-b2bf-408d-bc5d-224e8956eeec",
   "metadata": {},
   "outputs": [],
   "source": [
    "groups = df.groupby('srch_id').size().to_numpy()\n",
    "gss = GroupShuffleSplit(test_size=0.2, random_state=1)\n",
    "train_idx, test_idx = next(gss.split(X, y, groups=df['srch_id']))"
   ]
  },
  {
   "cell_type": "code",
   "execution_count": null,
   "id": "bce07658-e219-41c8-be63-f2ebcbca0c7c",
   "metadata": {},
   "outputs": [],
   "source": [
    "X_train_all = X.iloc[train_idx]\n",
    "y_train_all = y.iloc[train_idx]\n",
    "groups_train_all = df.iloc[train_idx]['srch_id']"
   ]
  },
  {
   "cell_type": "code",
   "execution_count": null,
   "id": "65010903-9dfa-4e88-8362-82adfa4b5ce3",
   "metadata": {},
   "outputs": [],
   "source": [
    "gss_val = GroupShuffleSplit(test_size=0.2, random_state=2)\n",
    "train_idx_final, val_idx = next(gss_val.split(X_train_all, y_train_all, groups=groups_train_all))"
   ]
  },
  {
   "cell_type": "code",
   "execution_count": null,
   "id": "faf8f29d-16fa-4657-a800-73b9f8fd9107",
   "metadata": {},
   "outputs": [],
   "source": [
    "X_train, y_train = X_train_all.iloc[train_idx_final], y_train_all.iloc[train_idx_final]\n",
    "X_val, y_val = X_train_all.iloc[val_idx], y_train_all.iloc[val_idx]"
   ]
  },
  {
   "cell_type": "code",
   "execution_count": null,
   "id": "fff9d1d1-6d1e-442d-8711-7f6ea482bf4f",
   "metadata": {},
   "outputs": [],
   "source": [
    "train_group = groups_train_all.iloc[train_idx_final].value_counts().sort_index().to_numpy()\n",
    "val_group   = groups_train_all.iloc[val_idx].value_counts().sort_index().to_numpy()"
   ]
  },
  {
   "cell_type": "code",
   "execution_count": null,
   "id": "e15e3732-52d2-4d88-b241-0d0ab68a4f50",
   "metadata": {},
   "outputs": [],
   "source": [
    "def train_lgb_val(X_train, y_train, train_group, X_val, y_val, val_group):\n",
    "    model = LGBMRanker(\n",
    "        objective='lambdarank',         # Change if classification/regression\n",
    "        metric='ndcg',                  # Or 'binary_logloss', 'rmse', etc.\n",
    "        ndcg_eval_at=[5],               # Only for ranking\n",
    "        learning_rate=0.05,             # Lower for large data = better generalization\n",
    "        num_leaves=63,                  # 2^6 - 1; adjusts capacity (correlates with depth)\n",
    "        max_depth=6,                    # Prevents overly deep trees\n",
    "        min_data_in_leaf=20,            # Helps generalization (reduce if underfitting)\n",
    "        min_split_gain=0.0,             # Allow all splits (LightGBM often benefits from this)\n",
    "        lambda_l1=0.0,                  # Add if sparse data or noise-prone\n",
    "        lambda_l2=1.0,                  # Mild regularization\n",
    "        bagging_fraction=0.8,           # Row subsampling (improves speed and generalization)\n",
    "        bagging_freq=1,                 # Perform bagging every iteration\n",
    "        feature_fraction=0.8,           # Column subsampling (helps with 200+ features)\n",
    "        n_estimators=940,             # Large number to allow early stopping\n",
    "        boosting_type='gbdt',\n",
    "        verbosity=-1,\n",
    "        device='gpu'\n",
    "    )\n",
    "    \n",
    "    model.fit(\n",
    "        X_train, y_train,\n",
    "        group=train_group,\n",
    "        eval_set=[(X_val, y_val)],\n",
    "        eval_group=[val_group],\n",
    "        callbacks=[log_evaluation(period=50)]\n",
    "    )\n",
    "    \n",
    "    return model, model.predict(X_val)"
   ]
  },
  {
   "cell_type": "code",
   "execution_count": null,
   "id": "410152dc-01f5-4fae-9fed-b2c50c7635c9",
   "metadata": {},
   "outputs": [],
   "source": [
    "def train_lgb(X_train, y_train, train_group):\n",
    "    model = LGBMRanker(\n",
    "        objective='lambdarank',         # Change if classification/regression\n",
    "        metric='ndcg',                  # Or 'binary_logloss', 'rmse', etc.\n",
    "        ndcg_eval_at=[5],               # Only for ranking\n",
    "        learning_rate=0.05,             # Lower for large data = better generalization\n",
    "        num_leaves=63,                  # 2^6 - 1; adjusts capacity (correlates with depth)\n",
    "        max_depth=6,                    # Prevents overly deep trees\n",
    "        min_data_in_leaf=20,            # Helps generalization (reduce if underfitting)\n",
    "        min_split_gain=0.0,             # Allow all splits (LightGBM often benefits from this)\n",
    "        lambda_l1=0.0,                  # Add if sparse data or noise-prone\n",
    "        lambda_l2=1.0,                  # Mild regularization\n",
    "        bagging_fraction=0.8,           # Row subsampling (improves speed and generalization)\n",
    "        bagging_freq=1,                 # Perform bagging every iteration\n",
    "        feature_fraction=0.8,           # Column subsampling (helps with 200+ features)\n",
    "        n_estimators=940,             # Large number to allow early stopping\n",
    "        boosting_type='gbdt',\n",
    "        verbosity=-1,\n",
    "        device='gpu'\n",
    "    )\n",
    "    \n",
    "    model.fit(\n",
    "        X_train, y_train,\n",
    "        group=train_group,\n",
    "        # eval_set=[(X_val, y_val)],\n",
    "        # eval_group=[val_group],\n",
    "        # callbacks=[early_stopping(stopping_rounds=50), log_evaluation(period=50)]\n",
    "    )\n",
    "    \n",
    "    return model"
   ]
  },
  {
   "cell_type": "code",
   "execution_count": null,
   "id": "4ff64240-a605-430b-be58-dfcc79dd6dfe",
   "metadata": {},
   "outputs": [],
   "source": [
    "group_sizes = df.groupby('srch_id').size().tolist()\n",
    "model = train_lgb(X, y, group_sizes)\n",
    "model.booster_.save_model('lgbm_full.txt')"
   ]
  },
  {
   "cell_type": "code",
   "execution_count": null,
   "id": "19101f7d-6756-4a99-85b1-df80da97b34c",
   "metadata": {},
   "outputs": [],
   "source": [
    "model, preds = train_lgb_val(X_train, y_train, train_group, X_val, y_val, val_group)\n",
    "model.booster_.save_model('lgbm_val.txt')"
   ]
  },
  {
   "cell_type": "code",
   "execution_count": null,
   "id": "a68e468c-1696-45fa-84f0-d57112222f28",
   "metadata": {},
   "outputs": [],
   "source": [
    "print(sum(val_group) == len(X_val))"
   ]
  },
  {
   "cell_type": "markdown",
   "id": "c16657a6-2b89-4e54-91b9-074f5cc10077",
   "metadata": {},
   "source": [
    "#### Evaluation"
   ]
  },
  {
   "cell_type": "code",
   "execution_count": null,
   "id": "04a89ef4-3e91-4c96-aa70-009d94ce2bfa",
   "metadata": {},
   "outputs": [],
   "source": [
    "del model, preds"
   ]
  },
  {
   "cell_type": "code",
   "execution_count": null,
   "id": "d52ccd92-51ec-4c8e-9436-58c77fc997eb",
   "metadata": {},
   "outputs": [],
   "source": [
    "lgb_model = lgb.Booster(model_file=\"lgbm_param_copy.txt\")"
   ]
  },
  {
   "cell_type": "code",
   "execution_count": null,
   "id": "e40cb643-e478-48cf-ae37-b347d2a642a1",
   "metadata": {},
   "outputs": [],
   "source": [
    "test_df = df.iloc[test_idx].copy()"
   ]
  },
  {
   "cell_type": "code",
   "execution_count": null,
   "id": "6f037b9d-2004-4776-94db-1100ec417f8d",
   "metadata": {},
   "outputs": [],
   "source": [
    "X_test, y_test = X.iloc[test_idx], y.iloc[test_idx]"
   ]
  },
  {
   "cell_type": "code",
   "execution_count": null,
   "id": "0bcbf97d-833c-4aec-84e0-d11ded39d00e",
   "metadata": {},
   "outputs": [],
   "source": [
    "dtest = xgb.DMatrix(X_test, y_test, enable_categorical=True)"
   ]
  },
  {
   "cell_type": "code",
   "execution_count": null,
   "id": "9b70a186-2874-4cca-8780-4efe3fe54f0f",
   "metadata": {},
   "outputs": [],
   "source": [
    "preds = lgb_model.predict(dtest)\n",
    "test_df['pred'] = preds\n",
    "\n",
    "# Compute NDCG@5 per srch_id and take the average\n",
    "ndcg_scores = []\n",
    "for srch_id, group in test_df.groupby('srch_id'):\n",
    "    if len(group) < 5:\n",
    "        continue  # the @5 in NDCG@5\n",
    "    true_relevance = group['relevance'].values.reshape(1, -1)\n",
    "    predicted_scores = group['pred'].values.reshape(1, -1)\n",
    "    score = ndcg_score(true_relevance, predicted_scores, k=5)\n",
    "    ndcg_scores.append(score)\n",
    "mean_ndcg = np.mean(ndcg_scores)\n",
    "print(f\"Mean NDCG@5: {mean_ndcg:.5f}\")"
   ]
  },
  {
   "cell_type": "markdown",
   "id": "ff4a2212-1bc4-4f34-bad5-a5393d5ad5a4",
   "metadata": {},
   "source": [
    "### Meta Model"
   ]
  },
  {
   "cell_type": "code",
   "execution_count": null,
   "id": "86a29476-fd9a-4537-bc50-8309770157d6",
   "metadata": {},
   "outputs": [],
   "source": [
    "def train_xgb_kfold(X_train, y_train, group_train, X_val, y_val, group_val, val_idx):\n",
    "    dtrain = xgb.DMatrix(X_train, label=y_train)\n",
    "    dtrain.set_group(group_train)\n",
    "    dval = xgb.DMatrix(X_val, label=y_val)\n",
    "    dval.set_group(group_val)\n",
    "\n",
    "    model, preds = train_xgb_validation(dtrain, dval)\n",
    "    return preds"
   ]
  },
  {
   "cell_type": "code",
   "execution_count": null,
   "id": "1a531155-995b-4f06-8334-5307dff3d5fe",
   "metadata": {},
   "outputs": [],
   "source": [
    "def train_lgb_kfold(X_train, y_train, group_train, X_val, y_val, group_val, val_idx):\n",
    "    model, preds = train_lgb_val(X_train, y_train, group_train, X_val, y_val, group_val)\n",
    "    return preds"
   ]
  },
  {
   "cell_type": "code",
   "execution_count": null,
   "id": "f8a6c222-1430-459e-a165-97499e25cf74",
   "metadata": {},
   "outputs": [],
   "source": [
    "df = load_dataset(training_file_stats)"
   ]
  },
  {
   "cell_type": "code",
   "execution_count": null,
   "id": "b75c2459-e100-4bbd-a4b5-944ff6c5889f",
   "metadata": {},
   "outputs": [],
   "source": [
    "# Make sure training features are only the ones available in the test file and don't include target feature relevance\n",
    "X = df.drop(['srch_id', 'relevance'], axis=1)\n",
    "y = df['relevance']"
   ]
  },
  {
   "cell_type": "code",
   "execution_count": null,
   "id": "e9fc46f0-8bfb-4607-a47e-fe4ce6d4f2c5",
   "metadata": {},
   "outputs": [],
   "source": [
    "group = df['srch_id']\n",
    "n_splits = 5"
   ]
  },
  {
   "cell_type": "code",
   "execution_count": null,
   "id": "86f35970-ecb4-46bb-89c1-ba478e8f6bf4",
   "metadata": {},
   "outputs": [],
   "source": [
    "features = []\n",
    "labels = []"
   ]
  },
  {
   "cell_type": "code",
   "execution_count": null,
   "id": "c1b90eee-d9af-440b-9873-d8a1b188fcb9",
   "metadata": {},
   "outputs": [],
   "source": [
    "kfold = GroupKFold(n_splits=n_splits)\n",
    "for fold, (train_idx_fold, val_idx_fold) in enumerate(kfold.split(X, y, groups=group)):\n",
    "    print(f\"Fold {fold + 1}\")\n",
    "\n",
    "    X_train, X_val = X.iloc[train_idx_fold], X.iloc[val_idx_fold]\n",
    "    y_train, y_val = y.iloc[train_idx_fold], y.iloc[val_idx_fold]\n",
    "\n",
    "    # Calculate group sizes (number of rows per query) for train and val folds:\n",
    "    group_train = y_train.groupby(group.iloc[train_idx_fold]).size().to_numpy()\n",
    "    group_val = y_val.groupby(group.iloc[val_idx_fold]).size().to_numpy()\n",
    "\n",
    "    preds_xgb = train_xgb_kfold(\n",
    "        X_train, y_train, group_train,\n",
    "        X_val, y_val, group_val,\n",
    "        val_idx_fold\n",
    "    )\n",
    "    preds_lgb = train_lgb_kfold(\n",
    "        X_train, y_train, group_train,\n",
    "        X_val, y_val, group_val,\n",
    "        val_idx_fold\n",
    "    )\n",
    "    features.append(np.vstack((preds_xgb, preds_lgb)).T)\n",
    "    labels.append(y_val.values)"
   ]
  },
  {
   "cell_type": "code",
   "execution_count": null,
   "id": "f80eb3e3-719f-4f41-a3d8-e5ab0dd62d50",
   "metadata": {},
   "outputs": [],
   "source": [
    "meta_X = np.vstack(features)\n",
    "meta_y = np.hstack(labels)\n",
    "\n",
    "scaler = MinMaxScaler()\n",
    "scaled = scaler.fit_transform(meta_X)\n",
    "\n",
    "meta_model = Ridge()\n",
    "meta_model.fit(scaled, meta_y)"
   ]
  },
  {
   "cell_type": "code",
   "execution_count": null,
   "id": "ad1a6683-6637-4ded-b555-63126d129c53",
   "metadata": {},
   "outputs": [],
   "source": [
    "joblib.dump(scaler, 'meta_scaler.pkl')"
   ]
  },
  {
   "cell_type": "code",
   "execution_count": null,
   "id": "9fa22696-557d-41be-a763-f471fcbba257",
   "metadata": {},
   "outputs": [],
   "source": [
    "joblib.dump(meta_model, 'meta_model.pkl')"
   ]
  },
  {
   "cell_type": "markdown",
   "id": "f9fba123-49fe-4d99-88da-61085c13b03d",
   "metadata": {},
   "source": [
    "#### Evaluation"
   ]
  },
  {
   "cell_type": "code",
   "execution_count": null,
   "id": "b3b6fa9b-974b-42ec-a8ec-c3105154d250",
   "metadata": {},
   "outputs": [],
   "source": [
    "model = joblib.load('meta_model.pkl')"
   ]
  },
  {
   "cell_type": "code",
   "execution_count": null,
   "id": "98609616-6f44-4efb-aec9-9a7b81d1f3f7",
   "metadata": {},
   "outputs": [],
   "source": [
    "dtest = xgb.DMatrix(X_test)"
   ]
  },
  {
   "cell_type": "code",
   "execution_count": null,
   "id": "b71771cb-989f-4d4e-be30-d40866e474d4",
   "metadata": {},
   "outputs": [],
   "source": [
    "xgb_test_preds = xgb_model.predict(dtest)\n",
    "lgb_test_preds = lgb_model.predict(X_test)\n",
    "meta_test_X = np.vstack((xgb_test_preds, lgb_test_preds)).T\n",
    "\n",
    "total_pred = meta_model.predict(meta_test_X)"
   ]
  },
  {
   "cell_type": "code",
   "execution_count": null,
   "id": "8bcc177f-1faf-49dc-a7e7-f178e7600169",
   "metadata": {},
   "outputs": [],
   "source": [
    "test_df = df.iloc[test_idx].copy()"
   ]
  },
  {
   "cell_type": "code",
   "execution_count": null,
   "id": "98894163-1d34-4e92-9f14-dac2a675e393",
   "metadata": {},
   "outputs": [],
   "source": [
    "test_df['pred'] = total_pred\n",
    "\n",
    "# compute NDCG@5 per srch_id and take the average\n",
    "ndcg_scores = []\n",
    "for srch_id, group in test_df.groupby('srch_id'):\n",
    "    if len(group) < 5:\n",
    "        continue  # the @5 in NDCG@5\n",
    "    true_relevance = group['relevance'].values.reshape(1, -1)\n",
    "    predicted_scores = group['pred'].values.reshape(1, -1)\n",
    "    score = ndcg_score(true_relevance, predicted_scores, k=5)\n",
    "    ndcg_scores.append(score)\n",
    "mean_ndcg = np.mean(ndcg_scores)\n",
    "print(f\"Mean NDCG@5: {mean_ndcg:.4f}\")"
   ]
  },
  {
   "cell_type": "markdown",
   "id": "7fc9c0f5-a0a9-4563-a37d-a71157ae6929",
   "metadata": {},
   "source": [
    "#### Results\n",
    "xgb/lgb: "
   ]
  },
  {
   "cell_type": "markdown",
   "id": "0397de51-a9f0-4b33-90b8-d16e657ae2f5",
   "metadata": {},
   "source": [
    "## Submission generator"
   ]
  },
  {
   "cell_type": "code",
   "execution_count": null,
   "id": "708c0e3c-65e0-48df-aa33-f9e4eaf44ba2",
   "metadata": {},
   "outputs": [],
   "source": [
    "del df, X, y, group, X_train, y_train, X_val, y_val, group_train, group_val"
   ]
  },
  {
   "cell_type": "code",
   "execution_count": null,
   "id": "4d7240ee-da2c-4e56-88c8-9049cfb7de58",
   "metadata": {},
   "outputs": [],
   "source": [
    "xgb_model = xgb.Booster()\n",
    "xgb_model.load_model('xgboost_model_final.json')"
   ]
  },
  {
   "cell_type": "code",
   "execution_count": null,
   "id": "f80316bc-e6f6-4cd4-b47a-e3c1ee0a7b91",
   "metadata": {},
   "outputs": [],
   "source": [
    "cat_model = CatBoostRanker()\n",
    "cat_model.load_model(\"catboost_model.cbm\")"
   ]
  },
  {
   "cell_type": "code",
   "execution_count": null,
   "id": "cb7ebb09-6679-4673-a8de-7e90ed5c4415",
   "metadata": {},
   "outputs": [],
   "source": [
    "lgb_model = lgb.Booster(model_file=\"lgbm_full.txt\")"
   ]
  },
  {
   "cell_type": "code",
   "execution_count": null,
   "id": "ae59fa25-a916-46a5-ae45-de1acea47c40",
   "metadata": {},
   "outputs": [],
   "source": [
    "meta_model = joblib.load('meta_model.pkl')"
   ]
  },
  {
   "cell_type": "code",
   "execution_count": null,
   "id": "330430d0-cb1c-470c-9edb-cf173c3b53d2",
   "metadata": {},
   "outputs": [],
   "source": [
    "test_df = load_dataset(test_file_stats)"
   ]
  },
  {
   "cell_type": "code",
   "execution_count": null,
   "id": "c3f6a12c-dc15-4ac4-af1f-77d88d7c57ff",
   "metadata": {},
   "outputs": [],
   "source": [
    "test_df_without_srch = test_df.drop('srch_id', axis=1)"
   ]
  },
  {
   "cell_type": "code",
   "execution_count": null,
   "id": "3abb5929-a4cc-405f-929f-6d4f59522549",
   "metadata": {},
   "outputs": [],
   "source": [
    "dtest = xgb.DMatrix(test_df_without_srch, enable_categorical=True)"
   ]
  },
  {
   "cell_type": "code",
   "execution_count": null,
   "id": "43e42670-2b4e-4e62-afc4-78806118a77a",
   "metadata": {},
   "outputs": [],
   "source": [
    "group_id = test_df['srch_id']\n",
    "test_pool = Pool(test_df_without_srch, group_id=group_id)"
   ]
  },
  {
   "cell_type": "code",
   "execution_count": null,
   "id": "b6578c81-7d3f-4d17-9759-e45c08d840f1",
   "metadata": {},
   "outputs": [],
   "source": [
    "xgb_pred = xgb_model.predict(dtest)"
   ]
  },
  {
   "cell_type": "code",
   "execution_count": null,
   "id": "961025b1-ba02-4a9e-b768-10cf3f5e9882",
   "metadata": {},
   "outputs": [],
   "source": [
    "cat_pred = cat_model.predict(test_pool)"
   ]
  },
  {
   "cell_type": "code",
   "execution_count": null,
   "id": "bb41b74f-2243-4036-916e-8ce0208ad54a",
   "metadata": {},
   "outputs": [],
   "source": [
    "lgb_pred = lgb_model.predict(test_df_without_srch)"
   ]
  },
  {
   "cell_type": "code",
   "execution_count": null,
   "id": "1ca85b96-59e9-450c-989d-dc06b33a6ff2",
   "metadata": {},
   "outputs": [],
   "source": [
    "scaler_xgb = MinMaxScaler()\n",
    "scaler_lgb = MinMaxScaler()\n",
    "\n",
    "xgb_scaled = scaler_xgb.fit_transform(xgb_pred.reshape(-1, 1)).flatten()\n",
    "lgb_scaled = scaler_lgb.fit_transform(lgb_pred.reshape(-1, 1)).flatten()\n",
    "\n",
    "xgb_proportion = 0.7\n",
    "lgb_proportion = 0.3\n",
    "total_pred = xgb_proportion * xgb_scaled + lgb_proportion * lgb_scaled"
   ]
  },
  {
   "cell_type": "code",
   "execution_count": null,
   "id": "31b32380-3c16-4d23-a560-3edf41929f51",
   "metadata": {},
   "outputs": [],
   "source": [
    "scaler = joblib.load('meta_scaler.pkl')\n",
    "meta_X = np.vstack((xgb_pred, lgb_pred)).T\n",
    "scaled = scaler.transform(meta_X)"
   ]
  },
  {
   "cell_type": "code",
   "execution_count": null,
   "id": "53f4c24f-c04f-4b58-acc9-cb2107775722",
   "metadata": {},
   "outputs": [],
   "source": [
    "total_pred = meta_model.predict(scaled)"
   ]
  },
  {
   "cell_type": "code",
   "execution_count": null,
   "id": "19ea154a-dabe-4319-9ae3-85624e1f77d8",
   "metadata": {},
   "outputs": [],
   "source": [
    "test_df['pred'] = total_pred"
   ]
  },
  {
   "cell_type": "code",
   "execution_count": null,
   "id": "0ac04039-d807-4e88-b888-279c1bbe1d4c",
   "metadata": {},
   "outputs": [],
   "source": [
    "# Sort prop_ids within search (srch_id) by descending predicted relevance\n",
    "test_df_filtered = test_df[['srch_id', 'prop_id', 'pred']]\n",
    "test_df_sorted = test_df_filtered.sort_values(by=[\"srch_id\", \"pred\"], ascending=[True, False])"
   ]
  },
  {
   "cell_type": "code",
   "execution_count": null,
   "id": "3902f5f6-c785-44a6-aac4-b793e2a456a5",
   "metadata": {},
   "outputs": [],
   "source": [
    "test_df_sorted.head(30)"
   ]
  },
  {
   "cell_type": "markdown",
   "id": "bb60f5ac-6103-43ba-aa20-5e11599610a5",
   "metadata": {},
   "source": [
    "#### XGBoost rank"
   ]
  },
  {
   "cell_type": "code",
   "execution_count": null,
   "id": "a396b099-d3f3-4662-8d13-9a269aebf647",
   "metadata": {},
   "outputs": [],
   "source": [
    "df_submission = test_df_sorted.drop(columns=['pred'])\n",
    "df_submission.to_csv('VU-DM-2025-Group-23 (1).csv', index=False)"
   ]
  },
  {
   "cell_type": "markdown",
   "id": "aec5b05e-86dc-42f8-8f51-9b1b5ba1aa25",
   "metadata": {},
   "source": [
    "#### Ensemble"
   ]
  },
  {
   "cell_type": "code",
   "execution_count": null,
   "id": "0231a503-5cbb-4138-87b8-77cc1da806bf",
   "metadata": {},
   "outputs": [],
   "source": [
    "df_submission = test_df_sorted.drop(columns=['pred'])\n",
    "df_submission.to_csv('VU-DM-2025-Group-23_ensemble.csv', index=False)"
   ]
  },
  {
   "cell_type": "markdown",
   "id": "267505d9-ffad-4e76-90f0-0347d4d8ce21",
   "metadata": {},
   "source": [
    "#### Meta"
   ]
  },
  {
   "cell_type": "code",
   "execution_count": null,
   "id": "fb71c6d5-1a1d-4c2e-acab-9315bf51102e",
   "metadata": {},
   "outputs": [],
   "source": [
    "df_submission = test_df_sorted.drop(columns=['pred'])\n",
    "df_submission.to_csv('VU-DM-2025-Group-23_meta.csv', index=False)"
   ]
  },
  {
   "cell_type": "markdown",
   "id": "8ac158b3-67f2-467d-a255-69227fe48058",
   "metadata": {},
   "source": [
    "----------------------------"
   ]
  },
  {
   "cell_type": "code",
   "execution_count": null,
   "id": "b2dd45c6-af6c-4279-96ce-e118b10ae6e9",
   "metadata": {},
   "outputs": [],
   "source": [
    "df_submission.shape"
   ]
  }
 ],
 "metadata": {
  "kernelspec": {
   "display_name": "Python (py12)",
   "language": "python",
   "name": "py12"
  },
  "language_info": {
   "codemirror_mode": {
    "name": "ipython",
    "version": 3
   },
   "file_extension": ".py",
   "mimetype": "text/x-python",
   "name": "python",
   "nbconvert_exporter": "python",
   "pygments_lexer": "ipython3",
   "version": "3.12.7"
  }
 },
 "nbformat": 4,
 "nbformat_minor": 5
}
